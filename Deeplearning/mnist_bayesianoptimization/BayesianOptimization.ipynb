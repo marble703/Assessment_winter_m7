{
 "cells": [
  {
   "cell_type": "markdown",
   "metadata": {},
   "source": [
    "#### 引入库"
   ]
  },
  {
   "cell_type": "code",
   "execution_count": 7,
   "metadata": {},
   "outputs": [],
   "source": [
    "import torch\n",
    "import torchvision\n",
    "import torch.nn as nn\n",
    "import torch.nn.functional as F\n",
    "import torch.optim as optim\n",
    "\n",
    "import matplotlib.pyplot as plt\n",
    "\n",
    "from bayes_opt import BayesianOptimization"
   ]
  },
  {
   "cell_type": "markdown",
   "metadata": {},
   "source": [
    "#### 参数设置\n",
    "目前遇到了一些不会改bug，只能在cpu上跑"
   ]
  },
  {
   "cell_type": "code",
   "execution_count": 8,
   "metadata": {},
   "outputs": [],
   "source": [
    "batch_size_train = 100 #训练时的批次大小，根据拟合程度和硬件性能调整。太大过拟合，占用内存大，训练速度慢；太小易受噪声影响，易陷入局部最小值\n",
    "batch_size_test = 50   #测试时的批次大小，调整没啥影响，一般和训练批次大小相似\n",
    "#learning_rate = 1e-3   #学习率，控制参数调整幅度。太大不稳定，可能跳过全局最小值；太小收敛速度慢，易陷入局部最小值\n",
    "log_interval = 100     #日志输出间隔，控制输出训练信息频率\n",
    "\n",
    "init_points = 5 #初始探索点数量\n",
    "n_iter = 25 #迭代次数\n",
    "total_epoch = init_points + n_iter\n",
    "\n",
    "pbounds = { 'learning_rate_log': (-5, -1),  \n",
    "            'beta1': (0.9, 0.999), #控制一阶矩（梯度的指数加权平均）的衰减速度,其实我也不知道这是啥\n",
    "            'beta2': (0.9, 0.999), #控制二阶矩（梯度平方的指数加权平均）的衰减速度,但是它总有存在的意义\n",
    "            'weight_decay_log': (-5,-3) } #正则化项\n",
    "\n",
    "random_seed = 1 #随机种子，用于复现结果\n",
    "torch.manual_seed(random_seed) #设置随机种子\n",
    "\n",
    "torch.backends.cudnn.deterministic = True\n",
    "torch.backends.cudnn.benchmark = False\n",
    "#使用确定性算法确保结果可复现\n",
    "\n",
    "# 检查是否有可用的CUDA\n",
    "if torch.cuda.is_available():\n",
    "    device = torch.device(\"cuda\")\n",
    "else:\n",
    "    device = torch.device(\"cpu\")\n",
    "    \n",
    "device = torch.device(\"cpu\")"
   ]
  },
  {
   "cell_type": "markdown",
   "metadata": {},
   "source": [
    "#### 导入MNIST数据集  \n",
    "自动下载到根目录下的 ./data/ 路径\n",
    "\n",
    "数据集保存在 train_loader 和 test_loader 中\n",
    "每张图片的灰度值 tensor 位于 train_loader.dataset.data 和 train_loader.dataset.data 中 \n",
    "数量分别为 6w 和 1w\n",
    "\n",
    "每张图片的 tensor \n",
    "dtype=torch.uint8\n",
    "torch.Size([28, 28])"
   ]
  },
  {
   "cell_type": "code",
   "execution_count": 9,
   "metadata": {},
   "outputs": [],
   "source": [
    "train_loader = torch.utils.data.DataLoader(\n",
    "    torchvision.datasets.MNIST('./data/',     #数据集本地存储路径，没有则创建\n",
    "                               train=True,    #加载训练集\n",
    "                               download=True, #如果本地不存在数据集，会下载数据集\n",
    "                                              #将图像转换为PyTorch张量\n",
    "                               transform=torchvision.transforms.ToTensor(),), \n",
    "    batch_size=batch_size_train,              #设置批次大小\n",
    "    shuffle=True,)                            #每次打乱   \n",
    "\n",
    "test_loader = torch.utils.data.DataLoader(\n",
    "    torchvision.datasets.MNIST('./data/',\n",
    "                               train=False,   #加载测试集\n",
    "                               download=True,\n",
    "                               transform=torchvision.transforms.Compose(\n",
    "                                   torchvision.transforms.ToTensor()), ), \n",
    "    batch_size=batch_size_test,\n",
    "    shuffle=True)"
   ]
  },
  {
   "cell_type": "markdown",
   "metadata": {},
   "source": [
    "#### 定义卷积网络\n",
    "输入 tensor 大小：[1, 28, 28]->  \n",
    "conv1 -> [8, 24, 24] ->  \n",
    "max_pool2d -> [8, 12, 12] ->  \n",
    "conv2 -> [64, 8, 8] ->  \n",
    "max_pool2d -> [64, 4, 4] ->  \n",
    "view -> [1024] ->  \n",
    "fc1 -> [256] ->  \n",
    "relu -> [256] ->  \n",
    "fc2 -> [10] (10分类)"
   ]
  },
  {
   "cell_type": "code",
   "execution_count": 10,
   "metadata": {},
   "outputs": [],
   "source": [
    "#定义神经网络\n",
    "class Net(nn.Module):\n",
    "    def __init__(self):\n",
    "        super(Net, self).__init__() #初始化方法\n",
    "        self.conv1 = nn.Conv2d(1, 8, kernel_size=5) #卷积层1：输入通道数，输出通道数，kernel_size表示卷积核的大小\n",
    "        self.conv2 = nn.Conv2d(8, 64, kernel_size=5) #卷积层2\n",
    "        self.fc1 = nn.Linear(1024, 256) #全连接层类1:输入特征数，输出特征数\n",
    "        self.fc2 = nn.Linear(256, 10) #全连接层类2\n",
    "        self.conv_drop = nn.Dropout2d() #二维Dropout层，正则化，防止过拟合\n",
    "        \n",
    "    def forward(self, x):     #前向传播方法\n",
    "        x = F.relu(F.max_pool2d(self.conv1(x), 2))         \n",
    "        x = F.relu(F.max_pool2d(self.conv_drop(self.conv2(x)), 2))\n",
    "        x = x.view(-1, 1024)        #将二维张量x展平为一维张量。使用-1可以根据其他维度推断出一个维度的大小，1024是展平后张量的大小。\n",
    "        x = F.relu(self.fc1(x))     #对展平后的张量应用全连接层1，对全连接层1的结果应用ReLU激活函数 \n",
    "        x = self.fc2(x)             #对张量x应用全连接层2\n",
    "        return F.log_softmax(x,     #对第二个全连接层的输出应用对数softmax函数，获取对数概率\n",
    "                              dim = 1)#dim = 1指定应在列上应用，该维度表示不同的类别\n",
    "\n",
    "network = Net().to(device)"
   ]
  },
  {
   "cell_type": "markdown",
   "metadata": {},
   "source": [
    "#### 定义训练函数和测试函数"
   ]
  },
  {
   "cell_type": "code",
   "execution_count": 11,
   "metadata": {},
   "outputs": [],
   "source": [
    "\n",
    "train_losses = [] #存储每个epoch的平均训练损失\n",
    "train_counter = [] #存储每个epoch结束时的总训练步数\n",
    "test_losses = [] #存储每个epoch的平均测试损失\n",
    "test_counter = [i * len(train_loader.dataset) for i in range(total_epoch + 1)] #存储每个epoch结束时的总测试步数\n",
    "accuracy_counter = [] #存储每个 epoch 的准确率\n",
    "\n",
    "epoch = -1 #为了让第一个epoch为第零个\n",
    "\n",
    "#定义训练函数\n",
    "def train(learning_rate_log, beta1, beta2, weight_decay_log):\n",
    "\n",
    "    global epoch\n",
    "    epoch += 1\n",
    "\n",
    "    learning_rate = 10 ** learning_rate_log\n",
    "    weight_decay = 10 ** weight_decay_log\n",
    "\n",
    "    optimizer = optim.Adam(params = network.parameters(),\n",
    "                           lr = learning_rate, \n",
    "                           betas = (beta1, beta2), \n",
    "                           weight_decay = weight_decay)\n",
    "\n",
    "    network.train() #将神经网络设置为训练模式\n",
    "    \n",
    "    for batch_idx, (data, target) in enumerate(train_loader): #遍历训练数据集的每个小批次\n",
    "        data, target = data.to(device), target.to(device) #将数据和标签移动到device上\n",
    "        optimizer.zero_grad()                             #将优化器的梯度缓存清零\n",
    "        output = network(data)                            #将输入数据传递给神经网络\n",
    "        loss = F.nll_loss(output, target)                 #使用负对数似然损失函数计算损失\n",
    "        loss.backward()                                   #反向传播,计算损失\n",
    "        optimizer.step()                                  #根据梯度更新网络的参数\n",
    "        if batch_idx % log_interval == 0:                 #延长日志输出间隔\n",
    "            print('Train Epoch: {} [{}/{} ({:.0f}%)]\\tLoss: {:.6f}'.format(epoch, batch_idx * len(data),\n",
    "                                                                           len(train_loader.dataset),\n",
    "                                                                           100. * batch_idx / len(train_loader),\n",
    "                                                                           loss.item()))\n",
    "            train_losses.append(loss.item())\n",
    "            train_counter.append((batch_idx * batch_size_train) + (epoch * len(train_loader.dataset)))\n",
    "            torch.save(network.state_dict(), './model.pth')       #保存当前的神经网络状态\n",
    "            torch.save(optimizer.state_dict(), './optimizer.pth') #保存当前的优化器状态\n",
    "    return test(epoch)\n",
    "\n",
    "def test(epoch):\n",
    "    network.eval() #将神经网络设置为评估（测试）模式\n",
    "    test_loss = 0  #初始化测试损失，用于计算测试集上的累积损失\n",
    "    correct = 0    #初始化正确预测的样本数，用于计算准确率\n",
    "    with torch.no_grad(): #上下文管理器，在该块中的操作不会影响到梯度计算\n",
    "        for data, target in test_loader:\n",
    "            data, target = data.to(device), target.to(device)\n",
    "            output = network(data)\n",
    "            test_loss += F.nll_loss(output, target, reduction='sum').item()\n",
    "            pred = output.data.max(1, keepdim=True)[1]\n",
    "            correct += pred.eq(target.data.view_as(pred)).sum()\n",
    "    test_loss /= len(test_loader.dataset)\n",
    "    test_losses.append(test_loss)\n",
    "    accuracy_counter.append(100. * correct / len(test_loader.dataset))\n",
    "    \n",
    "    return 100. * correct / len(test_loader.dataset)"
   ]
  },
  {
   "cell_type": "markdown",
   "metadata": {},
   "source": [
    "#### 定义超参数优化器 BayesianOptimization"
   ]
  },
  {
   "cell_type": "code",
   "execution_count": 12,
   "metadata": {},
   "outputs": [],
   "source": [
    "bayesian_optimizer = BayesianOptimization(\n",
    "    f = train,\n",
    "    pbounds = pbounds,\n",
    "    verbose = 2, # verbose = 1 prints only when a maximum is observed, verbose = 0 is silent\n",
    "    random_state = random_seed\n",
    ")"
   ]
  },
  {
   "cell_type": "markdown",
   "metadata": {},
   "source": [
    "#### 训练"
   ]
  },
  {
   "cell_type": "code",
   "execution_count": 13,
   "metadata": {},
   "outputs": [
    {
     "name": "stdout",
     "output_type": "stream",
     "text": [
      "|   iter    |  target   |   beta1   |   beta2   | learni... | weight... |\n",
      "-------------------------------------------------------------------------\n",
      "Train Epoch: 0 [0/60000 (0%)]\tLoss: 2.310331\n",
      "Train Epoch: 0 [10000/60000 (17%)]\tLoss: 2.273246\n",
      "Train Epoch: 0 [20000/60000 (33%)]\tLoss: 2.238857\n",
      "Train Epoch: 0 [30000/60000 (50%)]\tLoss: 2.185450\n",
      "Train Epoch: 0 [40000/60000 (67%)]\tLoss: 2.122446\n",
      "Train Epoch: 0 [50000/60000 (83%)]\tLoss: 2.033188\n"
     ]
    },
    {
     "ename": "TypeError",
     "evalue": "'ToTensor' object is not iterable",
     "output_type": "error",
     "traceback": [
      "\u001b[1;31m---------------------------------------------------------------------------\u001b[0m",
      "\u001b[1;31mTypeError\u001b[0m                                 Traceback (most recent call last)",
      "Cell \u001b[1;32mIn[13], line 1\u001b[0m\n\u001b[1;32m----> 1\u001b[0m bayesian_optimizer\u001b[38;5;241m.\u001b[39mmaximize(\n\u001b[0;32m      2\u001b[0m     init_points \u001b[38;5;241m=\u001b[39m init_points,\n\u001b[0;32m      3\u001b[0m     n_iter \u001b[38;5;241m=\u001b[39m n_iter)\n",
      "File \u001b[1;32mc:\\Users\\admin\\anaconda3\\envs\\pytorch\\Lib\\site-packages\\bayes_opt\\bayesian_optimization.py:310\u001b[0m, in \u001b[0;36mBayesianOptimization.maximize\u001b[1;34m(self, init_points, n_iter, acquisition_function, acq, kappa, kappa_decay, kappa_decay_delay, xi, **gp_params)\u001b[0m\n\u001b[0;32m    308\u001b[0m     x_probe \u001b[38;5;241m=\u001b[39m \u001b[38;5;28mself\u001b[39m\u001b[38;5;241m.\u001b[39msuggest(util)\n\u001b[0;32m    309\u001b[0m     iteration \u001b[38;5;241m+\u001b[39m\u001b[38;5;241m=\u001b[39m \u001b[38;5;241m1\u001b[39m\n\u001b[1;32m--> 310\u001b[0m \u001b[38;5;28mself\u001b[39m\u001b[38;5;241m.\u001b[39mprobe(x_probe, lazy\u001b[38;5;241m=\u001b[39m\u001b[38;5;28;01mFalse\u001b[39;00m)\n\u001b[0;32m    312\u001b[0m \u001b[38;5;28;01mif\u001b[39;00m \u001b[38;5;28mself\u001b[39m\u001b[38;5;241m.\u001b[39m_bounds_transformer \u001b[38;5;129;01mand\u001b[39;00m iteration \u001b[38;5;241m>\u001b[39m \u001b[38;5;241m0\u001b[39m:\n\u001b[0;32m    313\u001b[0m     \u001b[38;5;66;03m# The bounds transformer should only modify the bounds after\u001b[39;00m\n\u001b[0;32m    314\u001b[0m     \u001b[38;5;66;03m# the init_points points (only for the true iterations)\u001b[39;00m\n\u001b[0;32m    315\u001b[0m     \u001b[38;5;28mself\u001b[39m\u001b[38;5;241m.\u001b[39mset_bounds(\n\u001b[0;32m    316\u001b[0m         \u001b[38;5;28mself\u001b[39m\u001b[38;5;241m.\u001b[39m_bounds_transformer\u001b[38;5;241m.\u001b[39mtransform(\u001b[38;5;28mself\u001b[39m\u001b[38;5;241m.\u001b[39m_space))\n",
      "File \u001b[1;32mc:\\Users\\admin\\anaconda3\\envs\\pytorch\\Lib\\site-packages\\bayes_opt\\bayesian_optimization.py:208\u001b[0m, in \u001b[0;36mBayesianOptimization.probe\u001b[1;34m(self, params, lazy)\u001b[0m\n\u001b[0;32m    206\u001b[0m     \u001b[38;5;28mself\u001b[39m\u001b[38;5;241m.\u001b[39m_queue\u001b[38;5;241m.\u001b[39madd(params)\n\u001b[0;32m    207\u001b[0m \u001b[38;5;28;01melse\u001b[39;00m:\n\u001b[1;32m--> 208\u001b[0m     \u001b[38;5;28mself\u001b[39m\u001b[38;5;241m.\u001b[39m_space\u001b[38;5;241m.\u001b[39mprobe(params)\n\u001b[0;32m    209\u001b[0m     \u001b[38;5;28mself\u001b[39m\u001b[38;5;241m.\u001b[39mdispatch(Events\u001b[38;5;241m.\u001b[39mOPTIMIZATION_STEP)\n",
      "File \u001b[1;32mc:\\Users\\admin\\anaconda3\\envs\\pytorch\\Lib\\site-packages\\bayes_opt\\target_space.py:236\u001b[0m, in \u001b[0;36mTargetSpace.probe\u001b[1;34m(self, params)\u001b[0m\n\u001b[0;32m    234\u001b[0m x \u001b[38;5;241m=\u001b[39m \u001b[38;5;28mself\u001b[39m\u001b[38;5;241m.\u001b[39m_as_array(params)\n\u001b[0;32m    235\u001b[0m params \u001b[38;5;241m=\u001b[39m \u001b[38;5;28mdict\u001b[39m(\u001b[38;5;28mzip\u001b[39m(\u001b[38;5;28mself\u001b[39m\u001b[38;5;241m.\u001b[39m_keys, x))\n\u001b[1;32m--> 236\u001b[0m target \u001b[38;5;241m=\u001b[39m \u001b[38;5;28mself\u001b[39m\u001b[38;5;241m.\u001b[39mtarget_func(\u001b[38;5;241m*\u001b[39m\u001b[38;5;241m*\u001b[39mparams)\n\u001b[0;32m    238\u001b[0m \u001b[38;5;28;01mif\u001b[39;00m \u001b[38;5;28mself\u001b[39m\u001b[38;5;241m.\u001b[39m_constraint \u001b[38;5;129;01mis\u001b[39;00m \u001b[38;5;28;01mNone\u001b[39;00m:\n\u001b[0;32m    239\u001b[0m     \u001b[38;5;28mself\u001b[39m\u001b[38;5;241m.\u001b[39mregister(x, target)\n",
      "Cell \u001b[1;32mIn[11], line 41\u001b[0m, in \u001b[0;36mtrain\u001b[1;34m(learning_rate_log, beta1, beta2, weight_decay_log)\u001b[0m\n\u001b[0;32m     39\u001b[0m         torch\u001b[38;5;241m.\u001b[39msave(network\u001b[38;5;241m.\u001b[39mstate_dict(), \u001b[38;5;124m'\u001b[39m\u001b[38;5;124m./model.pth\u001b[39m\u001b[38;5;124m'\u001b[39m)       \u001b[38;5;66;03m#保存当前的神经网络状态\u001b[39;00m\n\u001b[0;32m     40\u001b[0m         torch\u001b[38;5;241m.\u001b[39msave(optimizer\u001b[38;5;241m.\u001b[39mstate_dict(), \u001b[38;5;124m'\u001b[39m\u001b[38;5;124m./optimizer.pth\u001b[39m\u001b[38;5;124m'\u001b[39m) \u001b[38;5;66;03m#保存当前的优化器状态\u001b[39;00m\n\u001b[1;32m---> 41\u001b[0m \u001b[38;5;28;01mreturn\u001b[39;00m test(epoch)\n",
      "Cell \u001b[1;32mIn[11], line 48\u001b[0m, in \u001b[0;36mtest\u001b[1;34m(epoch)\u001b[0m\n\u001b[0;32m     46\u001b[0m correct \u001b[38;5;241m=\u001b[39m \u001b[38;5;241m0\u001b[39m    \u001b[38;5;66;03m#初始化正确预测的样本数，用于计算准确率\u001b[39;00m\n\u001b[0;32m     47\u001b[0m \u001b[38;5;28;01mwith\u001b[39;00m torch\u001b[38;5;241m.\u001b[39mno_grad(): \u001b[38;5;66;03m#上下文管理器，在该块中的操作不会影响到梯度计算\u001b[39;00m\n\u001b[1;32m---> 48\u001b[0m     \u001b[38;5;28;01mfor\u001b[39;00m data, target \u001b[38;5;129;01min\u001b[39;00m test_loader:\n\u001b[0;32m     49\u001b[0m         data, target \u001b[38;5;241m=\u001b[39m data\u001b[38;5;241m.\u001b[39mto(device), target\u001b[38;5;241m.\u001b[39mto(device)\n\u001b[0;32m     50\u001b[0m         output \u001b[38;5;241m=\u001b[39m network(data)\n",
      "File \u001b[1;32mc:\\Users\\admin\\anaconda3\\envs\\pytorch\\Lib\\site-packages\\torch\\utils\\data\\dataloader.py:630\u001b[0m, in \u001b[0;36m_BaseDataLoaderIter.__next__\u001b[1;34m(self)\u001b[0m\n\u001b[0;32m    627\u001b[0m \u001b[38;5;28;01mif\u001b[39;00m \u001b[38;5;28mself\u001b[39m\u001b[38;5;241m.\u001b[39m_sampler_iter \u001b[38;5;129;01mis\u001b[39;00m \u001b[38;5;28;01mNone\u001b[39;00m:\n\u001b[0;32m    628\u001b[0m     \u001b[38;5;66;03m# TODO(https://github.com/pytorch/pytorch/issues/76750)\u001b[39;00m\n\u001b[0;32m    629\u001b[0m     \u001b[38;5;28mself\u001b[39m\u001b[38;5;241m.\u001b[39m_reset()  \u001b[38;5;66;03m# type: ignore[call-arg]\u001b[39;00m\n\u001b[1;32m--> 630\u001b[0m data \u001b[38;5;241m=\u001b[39m \u001b[38;5;28mself\u001b[39m\u001b[38;5;241m.\u001b[39m_next_data()\n\u001b[0;32m    631\u001b[0m \u001b[38;5;28mself\u001b[39m\u001b[38;5;241m.\u001b[39m_num_yielded \u001b[38;5;241m+\u001b[39m\u001b[38;5;241m=\u001b[39m \u001b[38;5;241m1\u001b[39m\n\u001b[0;32m    632\u001b[0m \u001b[38;5;28;01mif\u001b[39;00m \u001b[38;5;28mself\u001b[39m\u001b[38;5;241m.\u001b[39m_dataset_kind \u001b[38;5;241m==\u001b[39m _DatasetKind\u001b[38;5;241m.\u001b[39mIterable \u001b[38;5;129;01mand\u001b[39;00m \\\n\u001b[0;32m    633\u001b[0m         \u001b[38;5;28mself\u001b[39m\u001b[38;5;241m.\u001b[39m_IterableDataset_len_called \u001b[38;5;129;01mis\u001b[39;00m \u001b[38;5;129;01mnot\u001b[39;00m \u001b[38;5;28;01mNone\u001b[39;00m \u001b[38;5;129;01mand\u001b[39;00m \\\n\u001b[0;32m    634\u001b[0m         \u001b[38;5;28mself\u001b[39m\u001b[38;5;241m.\u001b[39m_num_yielded \u001b[38;5;241m>\u001b[39m \u001b[38;5;28mself\u001b[39m\u001b[38;5;241m.\u001b[39m_IterableDataset_len_called:\n",
      "File \u001b[1;32mc:\\Users\\admin\\anaconda3\\envs\\pytorch\\Lib\\site-packages\\torch\\utils\\data\\dataloader.py:674\u001b[0m, in \u001b[0;36m_SingleProcessDataLoaderIter._next_data\u001b[1;34m(self)\u001b[0m\n\u001b[0;32m    672\u001b[0m \u001b[38;5;28;01mdef\u001b[39;00m \u001b[38;5;21m_next_data\u001b[39m(\u001b[38;5;28mself\u001b[39m):\n\u001b[0;32m    673\u001b[0m     index \u001b[38;5;241m=\u001b[39m \u001b[38;5;28mself\u001b[39m\u001b[38;5;241m.\u001b[39m_next_index()  \u001b[38;5;66;03m# may raise StopIteration\u001b[39;00m\n\u001b[1;32m--> 674\u001b[0m     data \u001b[38;5;241m=\u001b[39m \u001b[38;5;28mself\u001b[39m\u001b[38;5;241m.\u001b[39m_dataset_fetcher\u001b[38;5;241m.\u001b[39mfetch(index)  \u001b[38;5;66;03m# may raise StopIteration\u001b[39;00m\n\u001b[0;32m    675\u001b[0m     \u001b[38;5;28;01mif\u001b[39;00m \u001b[38;5;28mself\u001b[39m\u001b[38;5;241m.\u001b[39m_pin_memory:\n\u001b[0;32m    676\u001b[0m         data \u001b[38;5;241m=\u001b[39m _utils\u001b[38;5;241m.\u001b[39mpin_memory\u001b[38;5;241m.\u001b[39mpin_memory(data, \u001b[38;5;28mself\u001b[39m\u001b[38;5;241m.\u001b[39m_pin_memory_device)\n",
      "File \u001b[1;32mc:\\Users\\admin\\anaconda3\\envs\\pytorch\\Lib\\site-packages\\torch\\utils\\data\\_utils\\fetch.py:51\u001b[0m, in \u001b[0;36m_MapDatasetFetcher.fetch\u001b[1;34m(self, possibly_batched_index)\u001b[0m\n\u001b[0;32m     49\u001b[0m         data \u001b[38;5;241m=\u001b[39m \u001b[38;5;28mself\u001b[39m\u001b[38;5;241m.\u001b[39mdataset\u001b[38;5;241m.\u001b[39m__getitems__(possibly_batched_index)\n\u001b[0;32m     50\u001b[0m     \u001b[38;5;28;01melse\u001b[39;00m:\n\u001b[1;32m---> 51\u001b[0m         data \u001b[38;5;241m=\u001b[39m [\u001b[38;5;28mself\u001b[39m\u001b[38;5;241m.\u001b[39mdataset[idx] \u001b[38;5;28;01mfor\u001b[39;00m idx \u001b[38;5;129;01min\u001b[39;00m possibly_batched_index]\n\u001b[0;32m     52\u001b[0m \u001b[38;5;28;01melse\u001b[39;00m:\n\u001b[0;32m     53\u001b[0m     data \u001b[38;5;241m=\u001b[39m \u001b[38;5;28mself\u001b[39m\u001b[38;5;241m.\u001b[39mdataset[possibly_batched_index]\n",
      "File \u001b[1;32mc:\\Users\\admin\\anaconda3\\envs\\pytorch\\Lib\\site-packages\\torch\\utils\\data\\_utils\\fetch.py:51\u001b[0m, in \u001b[0;36m<listcomp>\u001b[1;34m(.0)\u001b[0m\n\u001b[0;32m     49\u001b[0m         data \u001b[38;5;241m=\u001b[39m \u001b[38;5;28mself\u001b[39m\u001b[38;5;241m.\u001b[39mdataset\u001b[38;5;241m.\u001b[39m__getitems__(possibly_batched_index)\n\u001b[0;32m     50\u001b[0m     \u001b[38;5;28;01melse\u001b[39;00m:\n\u001b[1;32m---> 51\u001b[0m         data \u001b[38;5;241m=\u001b[39m [\u001b[38;5;28mself\u001b[39m\u001b[38;5;241m.\u001b[39mdataset[idx] \u001b[38;5;28;01mfor\u001b[39;00m idx \u001b[38;5;129;01min\u001b[39;00m possibly_batched_index]\n\u001b[0;32m     52\u001b[0m \u001b[38;5;28;01melse\u001b[39;00m:\n\u001b[0;32m     53\u001b[0m     data \u001b[38;5;241m=\u001b[39m \u001b[38;5;28mself\u001b[39m\u001b[38;5;241m.\u001b[39mdataset[possibly_batched_index]\n",
      "File \u001b[1;32mc:\\Users\\admin\\anaconda3\\envs\\pytorch\\Lib\\site-packages\\torchvision\\datasets\\mnist.py:145\u001b[0m, in \u001b[0;36mMNIST.__getitem__\u001b[1;34m(self, index)\u001b[0m\n\u001b[0;32m    142\u001b[0m img \u001b[38;5;241m=\u001b[39m Image\u001b[38;5;241m.\u001b[39mfromarray(img\u001b[38;5;241m.\u001b[39mnumpy(), mode\u001b[38;5;241m=\u001b[39m\u001b[38;5;124m\"\u001b[39m\u001b[38;5;124mL\u001b[39m\u001b[38;5;124m\"\u001b[39m)\n\u001b[0;32m    144\u001b[0m \u001b[38;5;28;01mif\u001b[39;00m \u001b[38;5;28mself\u001b[39m\u001b[38;5;241m.\u001b[39mtransform \u001b[38;5;129;01mis\u001b[39;00m \u001b[38;5;129;01mnot\u001b[39;00m \u001b[38;5;28;01mNone\u001b[39;00m:\n\u001b[1;32m--> 145\u001b[0m     img \u001b[38;5;241m=\u001b[39m \u001b[38;5;28mself\u001b[39m\u001b[38;5;241m.\u001b[39mtransform(img)\n\u001b[0;32m    147\u001b[0m \u001b[38;5;28;01mif\u001b[39;00m \u001b[38;5;28mself\u001b[39m\u001b[38;5;241m.\u001b[39mtarget_transform \u001b[38;5;129;01mis\u001b[39;00m \u001b[38;5;129;01mnot\u001b[39;00m \u001b[38;5;28;01mNone\u001b[39;00m:\n\u001b[0;32m    148\u001b[0m     target \u001b[38;5;241m=\u001b[39m \u001b[38;5;28mself\u001b[39m\u001b[38;5;241m.\u001b[39mtarget_transform(target)\n",
      "File \u001b[1;32mc:\\Users\\admin\\anaconda3\\envs\\pytorch\\Lib\\site-packages\\torchvision\\transforms\\transforms.py:94\u001b[0m, in \u001b[0;36mCompose.__call__\u001b[1;34m(self, img)\u001b[0m\n\u001b[0;32m     93\u001b[0m \u001b[38;5;28;01mdef\u001b[39;00m \u001b[38;5;21m__call__\u001b[39m(\u001b[38;5;28mself\u001b[39m, img):\n\u001b[1;32m---> 94\u001b[0m     \u001b[38;5;28;01mfor\u001b[39;00m t \u001b[38;5;129;01min\u001b[39;00m \u001b[38;5;28mself\u001b[39m\u001b[38;5;241m.\u001b[39mtransforms:\n\u001b[0;32m     95\u001b[0m         img \u001b[38;5;241m=\u001b[39m t(img)\n\u001b[0;32m     96\u001b[0m     \u001b[38;5;28;01mreturn\u001b[39;00m img\n",
      "\u001b[1;31mTypeError\u001b[0m: 'ToTensor' object is not iterable"
     ]
    }
   ],
   "source": [
    "bayesian_optimizer.maximize(\n",
    "    init_points = init_points,\n",
    "    n_iter = n_iter)"
   ]
  },
  {
   "cell_type": "markdown",
   "metadata": {},
   "source": [
    "#### 输出"
   ]
  },
  {
   "cell_type": "code",
   "execution_count": null,
   "metadata": {},
   "outputs": [],
   "source": [
    "def draw_train_loss():\n",
    "    fig = plt.figure()\n",
    "\n",
    "    for i in range(total_epoch):\n",
    "        start_index = i * len(train_counter) // total_epoch\n",
    "        end_index = (i + 1) * len(train_counter) // total_epoch\n",
    "        plt.plot(train_counter[start_index:end_index], train_losses[start_index:end_index])\n",
    "    \n",
    "    plt.legend(['Train loss'], loc='upper right')\n",
    "    plt.xlabel('number of training examples seen')\n",
    "    plt.ylabel('negative log likelihood loss')\n",
    "    plt.show()\n",
    "\n",
    "def draw_test_loss():\n",
    "    fig = plt.figure()\n",
    "    plt.plot([x / len(train_loader.dataset) for x in test_counter][:init_points], \n",
    "             test_losses[:init_points], \n",
    "             color='red', label='Test loss (Init Points)')\n",
    "    plt.plot([x / len(train_loader.dataset) for x in test_counter][init_points:-1], \n",
    "             test_losses[init_points:], \n",
    "             color='blue', label='Test loss (n_iter)')\n",
    "    plt.legend(['Test Loss'], loc='upper right')\n",
    "    plt.xlabel('epoch')\n",
    "    plt.ylabel('negative log likelihood loss')\n",
    "    plt.show()\n",
    "\n",
    "def draw_accuracy():\n",
    "    fig = plt.figure()\n",
    "    plt.plot([x / len(train_loader.dataset) for x in test_counter][:init_points], \n",
    "             [x.item() for x in accuracy_counter[:init_points]], \n",
    "             color='red', label='Accuracy (Init Points)')\n",
    "    plt.plot([x / len(train_loader.dataset) for x in test_counter][init_points:-1], \n",
    "             [x.item() for x in accuracy_counter[init_points:]], \n",
    "             color='blue', label='Accuracy (n_iter)')\n",
    "    plt.legend(loc='lower right')\n",
    "    plt.xlabel('epoch')\n",
    "    plt.ylabel('accuracy')\n",
    "    plt.show()\n",
    "\n",
    "draw_train_loss()\n",
    "draw_test_loss()\n",
    "draw_accuracy()\n",
    "\n",
    "#输出最优参数组合, target 就是 accuracy\n",
    "print(bayesian_optimizer.max)"
   ]
  }
 ],
 "metadata": {
  "kernelspec": {
   "display_name": "pytorch",
   "language": "python",
   "name": "python3"
  },
  "language_info": {
   "codemirror_mode": {
    "name": "ipython",
    "version": 3
   },
   "file_extension": ".py",
   "mimetype": "text/x-python",
   "name": "python",
   "nbconvert_exporter": "python",
   "pygments_lexer": "ipython3",
   "version": "3.11.5"
  }
 },
 "nbformat": 4,
 "nbformat_minor": 2
}
