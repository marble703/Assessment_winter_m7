{
 "cells": [
  {
   "cell_type": "markdown",
   "metadata": {},
   "source": [
    "#### 引入库"
   ]
  },
  {
   "cell_type": "code",
   "execution_count": 1,
   "metadata": {},
   "outputs": [],
   "source": [
    "import torch\n",
    "import torchvision\n",
    "import torch.nn as nn\n",
    "import torch.nn.functional as F\n",
    "import torch.optim as optim\n",
    "\n",
    "import matplotlib.pyplot as plt\n",
    "\n",
    "from bayes_opt import BayesianOptimization"
   ]
  },
  {
   "cell_type": "markdown",
   "metadata": {},
   "source": [
    "#### 参数设置\n",
    "目前遇到了一些不会改bug，只能在cpu上跑"
   ]
  },
  {
   "cell_type": "code",
   "execution_count": 2,
   "metadata": {},
   "outputs": [],
   "source": [
    "batch_size_train = 100 #训练时的批次大小，根据拟合程度和硬件性能调整。太大过拟合，占用内存大，训练速度慢；太小易受噪声影响，易陷入局部最小值\n",
    "batch_size_test = 50   #测试时的批次大小，调整没啥影响，一般和训练批次大小相似\n",
    "#learning_rate = 1e-3   #学习率，控制参数调整幅度。太大不稳定，可能跳过全局最小值；太小收敛速度慢，易陷入局部最小值\n",
    "log_interval = 100     #日志输出间隔，控制输出训练信息频率\n",
    "\n",
    "init_points = 5 #初始探索点数量\n",
    "n_iter = 25 #迭代次数\n",
    "total_epoch = init_points + n_iter\n",
    "\n",
    "pbounds = { 'learning_rate_log': (-5, -1),  \n",
    "            'beta1': (0.9, 0.999), #控制一阶矩（梯度的指数加权平均）的衰减速度,其实我也不知道这是啥\n",
    "            'beta2': (0.9, 0.999), #控制二阶矩（梯度平方的指数加权平均）的衰减速度,但是它总有存在的意义\n",
    "            'weight_decay_log': (-5,-3) } #正则化项\n",
    "\n",
    "random_seed = 1 #随机种子，用于复现结果\n",
    "torch.manual_seed(random_seed) #设置随机种子\n",
    "\n",
    "torch.backends.cudnn.deterministic = True\n",
    "torch.backends.cudnn.benchmark = False\n",
    "#使用确定性算法确保结果可复现\n",
    "\n",
    "# 检查是否有可用的CUDA\n",
    "if torch.cuda.is_available():\n",
    "    device = torch.device(\"cuda\")\n",
    "else:\n",
    "    device = torch.device(\"cpu\")\n",
    "    \n",
    "device = torch.device(\"cpu\")"
   ]
  },
  {
   "cell_type": "markdown",
   "metadata": {},
   "source": [
    "#### 导入MNIST数据集  \n",
    "自动下载到根目录下的 ./data/ 路径\n",
    "\n",
    "数据集保存在 train_loader 和 test_loader 中\n",
    "每张图片的灰度值 tensor 位于 train_loader.dataset.data 和 train_loader.dataset.data 中 \n",
    "数量分别为 6w 和 1w\n",
    "\n",
    "每张图片的 tensor \n",
    "dtype=torch.uint8\n",
    "torch.Size([28, 28])"
   ]
  },
  {
   "cell_type": "code",
   "execution_count": 3,
   "metadata": {},
   "outputs": [
    {
     "name": "stdout",
     "output_type": "stream",
     "text": [
      "Downloading http://yann.lecun.com/exdb/mnist/train-images-idx3-ubyte.gz\n",
      "Failed to download (trying next):\n",
      "HTTP Error 503: Service Unavailable\n",
      "\n",
      "Downloading https://ossci-datasets.s3.amazonaws.com/mnist/train-images-idx3-ubyte.gz\n",
      "Downloading https://ossci-datasets.s3.amazonaws.com/mnist/train-images-idx3-ubyte.gz to ./data/MNIST\\raw\\train-images-idx3-ubyte.gz\n"
     ]
    },
    {
     "name": "stderr",
     "output_type": "stream",
     "text": [
      "100%|██████████| 9912422/9912422 [00:02<00:00, 3963151.21it/s]\n"
     ]
    },
    {
     "name": "stdout",
     "output_type": "stream",
     "text": [
      "Extracting ./data/MNIST\\raw\\train-images-idx3-ubyte.gz to ./data/MNIST\\raw\n",
      "\n",
      "Downloading http://yann.lecun.com/exdb/mnist/train-labels-idx1-ubyte.gz\n",
      "Failed to download (trying next):\n",
      "HTTP Error 503: Service Unavailable\n",
      "\n",
      "Downloading https://ossci-datasets.s3.amazonaws.com/mnist/train-labels-idx1-ubyte.gz\n",
      "Downloading https://ossci-datasets.s3.amazonaws.com/mnist/train-labels-idx1-ubyte.gz to ./data/MNIST\\raw\\train-labels-idx1-ubyte.gz\n"
     ]
    },
    {
     "name": "stderr",
     "output_type": "stream",
     "text": [
      "100%|██████████| 28881/28881 [00:00<00:00, 442715.06it/s]\n"
     ]
    },
    {
     "name": "stdout",
     "output_type": "stream",
     "text": [
      "Extracting ./data/MNIST\\raw\\train-labels-idx1-ubyte.gz to ./data/MNIST\\raw\n",
      "\n",
      "Downloading http://yann.lecun.com/exdb/mnist/t10k-images-idx3-ubyte.gz\n",
      "Failed to download (trying next):\n",
      "HTTP Error 503: Service Unavailable\n",
      "\n",
      "Downloading https://ossci-datasets.s3.amazonaws.com/mnist/t10k-images-idx3-ubyte.gz\n",
      "Downloading https://ossci-datasets.s3.amazonaws.com/mnist/t10k-images-idx3-ubyte.gz to ./data/MNIST\\raw\\t10k-images-idx3-ubyte.gz\n"
     ]
    },
    {
     "name": "stderr",
     "output_type": "stream",
     "text": [
      "100%|██████████| 1648877/1648877 [00:00<00:00, 1966212.06it/s]\n"
     ]
    },
    {
     "name": "stdout",
     "output_type": "stream",
     "text": [
      "Extracting ./data/MNIST\\raw\\t10k-images-idx3-ubyte.gz to ./data/MNIST\\raw\n",
      "\n",
      "Downloading http://yann.lecun.com/exdb/mnist/t10k-labels-idx1-ubyte.gz\n",
      "Failed to download (trying next):\n",
      "HTTP Error 503: Service Unavailable\n",
      "\n",
      "Downloading https://ossci-datasets.s3.amazonaws.com/mnist/t10k-labels-idx1-ubyte.gz\n",
      "Downloading https://ossci-datasets.s3.amazonaws.com/mnist/t10k-labels-idx1-ubyte.gz to ./data/MNIST\\raw\\t10k-labels-idx1-ubyte.gz\n"
     ]
    },
    {
     "name": "stderr",
     "output_type": "stream",
     "text": [
      "100%|██████████| 4542/4542 [00:00<00:00, 3272162.28it/s]"
     ]
    },
    {
     "name": "stdout",
     "output_type": "stream",
     "text": [
      "Extracting ./data/MNIST\\raw\\t10k-labels-idx1-ubyte.gz to ./data/MNIST\\raw\n",
      "\n"
     ]
    },
    {
     "name": "stderr",
     "output_type": "stream",
     "text": [
      "\n"
     ]
    }
   ],
   "source": [
    "train_loader = torch.utils.data.DataLoader(\n",
    "    torchvision.datasets.MNIST('./data/',     #数据集本地存储路径，没有则创建\n",
    "                               train=True,    #加载训练集\n",
    "                               download=True, #如果本地不存在数据集，会下载数据集\n",
    "                               transform=torchvision.transforms.ToTensor(),),#将图像转换为PyTorch张量                          \n",
    "    batch_size = batch_size_train, #设置批次大小\n",
    "    shuffle=True)                 #每次打乱   \n",
    "\n",
    "test_loader = torch.utils.data.DataLoader(\n",
    "    torchvision.datasets.MNIST('./data/',\n",
    "                               train=False,   #加载测试集\n",
    "                               download=True,\n",
    "                               transform=torchvision.transforms.ToTensor(),),\n",
    "    batch_size = batch_size_test,\n",
    "    shuffle=True)"
   ]
  },
  {
   "cell_type": "markdown",
   "metadata": {},
   "source": [
    "#### 定义卷积网络\n",
    "输入 tensor 大小：[1, 28, 28]->  \n",
    "conv1 -> [8, 24, 24] ->  \n",
    "max_pool2d -> [8, 12, 12] ->  \n",
    "conv2 -> [64, 8, 8] ->  \n",
    "max_pool2d -> [64, 4, 4] ->  \n",
    "view -> [1024] ->  \n",
    "fc1 -> [256] ->  \n",
    "relu -> [256] ->  \n",
    "fc2 -> [10] (10分类)"
   ]
  },
  {
   "cell_type": "code",
   "execution_count": 4,
   "metadata": {},
   "outputs": [],
   "source": [
    "#定义神经网络\n",
    "class Net(nn.Module):\n",
    "    def __init__(self):\n",
    "        super(Net, self).__init__() #初始化方法\n",
    "        self.conv1 = nn.Conv2d(1, 8, kernel_size=5) #卷积层1：输入通道数，输出通道数，kernel_size表示卷积核的大小\n",
    "        self.conv2 = nn.Conv2d(8, 64, kernel_size=5) #卷积层2\n",
    "        self.fc1 = nn.Linear(1024, 256) #全连接层类1:输入特征数，输出特征数\n",
    "        self.fc2 = nn.Linear(256, 10) #全连接层类2\n",
    "        self.conv_drop = nn.Dropout2d() #二维Dropout层，正则化，防止过拟合\n",
    "        \n",
    "    def forward(self, x):     #前向传播方法\n",
    "        x = F.relu(F.max_pool2d(self.conv1(x), 2))         \n",
    "        x = F.relu(F.max_pool2d(self.conv_drop(self.conv2(x)), 2))\n",
    "        x = x.view(-1, 1024)        #将二维张量x展平为一维张量。使用-1可以根据其他维度推断出一个维度的大小，1024是展平后张量的大小。\n",
    "        x = F.relu(self.fc1(x))     #对展平后的张量应用全连接层1，对全连接层1的结果应用ReLU激活函数 \n",
    "        x = self.fc2(x)             #对张量x应用全连接层2\n",
    "        return F.log_softmax(x,     #对第二个全连接层的输出应用对数softmax函数，获取对数概率\n",
    "                              dim = 1)#dim = 1指定应在列上应用，该维度表示不同的类别\n",
    "\n",
    "network = Net().to(device)"
   ]
  },
  {
   "cell_type": "markdown",
   "metadata": {},
   "source": [
    "#### 定义训练函数和测试函数"
   ]
  },
  {
   "cell_type": "code",
   "execution_count": 5,
   "metadata": {},
   "outputs": [],
   "source": [
    "\n",
    "train_losses = [] #存储每个epoch的平均训练损失\n",
    "train_counter = [] #存储每个epoch结束时的总训练步数\n",
    "test_losses = [] #存储每个epoch的平均测试损失\n",
    "test_counter = [i * len(train_loader.dataset) for i in range(total_epoch + 1)] #存储每个epoch结束时的总测试步数\n",
    "accuracy_counter = [] #存储每个 epoch 的准确率\n",
    "\n",
    "epoch = -1 #为了让第一个epoch为第零个\n",
    "\n",
    "#定义训练函数\n",
    "def train(learning_rate_log, beta1, beta2, weight_decay_log):\n",
    "\n",
    "    global epoch\n",
    "    epoch += 1\n",
    "\n",
    "    learning_rate = 10 ** learning_rate_log\n",
    "    weight_decay = 10 ** weight_decay_log\n",
    "\n",
    "    optimizer = optim.Adam(params = network.parameters(),\n",
    "                           lr = learning_rate, \n",
    "                           betas = (beta1, beta2), \n",
    "                           weight_decay = weight_decay)\n",
    "\n",
    "    network.train() #将神经网络设置为训练模式\n",
    "    \n",
    "    for batch_idx, (data, target) in enumerate(train_loader): #遍历训练数据集的每个小批次\n",
    "        data, target = data.to(device), target.to(device) #将数据和标签移动到device上\n",
    "        optimizer.zero_grad()                             #将优化器的梯度缓存清零\n",
    "        output = network(data)                            #将输入数据传递给神经网络\n",
    "        loss = F.nll_loss(output, target)                 #使用负对数似然损失函数计算损失\n",
    "        loss.backward()                                   #反向传播,计算损失\n",
    "        optimizer.step()                                  #根据梯度更新网络的参数\n",
    "        if batch_idx % log_interval == 0:                 #延长日志输出间隔\n",
    "            print('Train Epoch: {} [{}/{} ({:.0f}%)]\\tLoss: {:.6f}'.format(epoch, batch_idx * len(data),\n",
    "                                                                           len(train_loader.dataset),\n",
    "                                                                           100. * batch_idx / len(train_loader),\n",
    "                                                                           loss.item()))\n",
    "            train_losses.append(loss.item())\n",
    "            train_counter.append((batch_idx * batch_size_train) + (epoch * len(train_loader.dataset)))\n",
    "            torch.save(network.state_dict(), './model.pth')       #保存当前的神经网络状态\n",
    "            torch.save(optimizer.state_dict(), './optimizer.pth') #保存当前的优化器状态\n",
    "    return test(epoch)\n",
    "\n",
    "def test(epoch):\n",
    "    network.eval() #将神经网络设置为评估（测试）模式\n",
    "    test_loss = 0  #初始化测试损失，用于计算测试集上的累积损失\n",
    "    correct = 0    #初始化正确预测的样本数，用于计算准确率\n",
    "    with torch.no_grad(): #上下文管理器，在该块中的操作不会影响到梯度计算\n",
    "        for data, target in test_loader:\n",
    "            data, target = data.to(device), target.to(device)\n",
    "            output = network(data)\n",
    "            test_loss += F.nll_loss(output, target, reduction='sum').item()\n",
    "            pred = output.data.max(1, keepdim=True)[1]\n",
    "            correct += pred.eq(target.data.view_as(pred)).sum()\n",
    "    test_loss /= len(test_loader.dataset)\n",
    "    test_losses.append(test_loss)\n",
    "    accuracy_counter.append(100. * correct / len(test_loader.dataset))\n",
    "    \n",
    "    return 100. * correct / len(test_loader.dataset)"
   ]
  },
  {
   "cell_type": "markdown",
   "metadata": {},
   "source": [
    "#### 定义超参数优化器 BayesianOptimization"
   ]
  },
  {
   "cell_type": "code",
   "execution_count": 6,
   "metadata": {},
   "outputs": [],
   "source": [
    "bayesian_optimizer = BayesianOptimization(\n",
    "    f = train,\n",
    "    pbounds = pbounds,\n",
    "    verbose = 2, # verbose = 1 prints only when a maximum is observed, verbose = 0 is silent\n",
    "    random_state = random_seed\n",
    ")"
   ]
  },
  {
   "cell_type": "markdown",
   "metadata": {},
   "source": [
    "#### 训练"
   ]
  },
  {
   "cell_type": "code",
   "execution_count": 7,
   "metadata": {},
   "outputs": [
    {
     "name": "stdout",
     "output_type": "stream",
     "text": [
      "|   iter    |  target   |   beta1   |   beta2   | learni... | weight... |\n",
      "-------------------------------------------------------------------------\n",
      "Train Epoch: 0 [0/60000 (0%)]\tLoss: 2.310331\n",
      "Train Epoch: 0 [10000/60000 (17%)]\tLoss: 2.273246\n",
      "Train Epoch: 0 [20000/60000 (33%)]\tLoss: 2.238857\n",
      "Train Epoch: 0 [30000/60000 (50%)]\tLoss: 2.185450\n",
      "Train Epoch: 0 [40000/60000 (67%)]\tLoss: 2.122446\n",
      "Train Epoch: 0 [50000/60000 (83%)]\tLoss: 2.033188\n",
      "| \u001b[0m1        \u001b[0m | \u001b[0m67.68    \u001b[0m | \u001b[0m0.9413   \u001b[0m | \u001b[0m0.9713   \u001b[0m | \u001b[0m-5.0     \u001b[0m | \u001b[0m-4.395   \u001b[0m |\n",
      "Train Epoch: 1 [0/60000 (0%)]\tLoss: 1.979416\n",
      "Train Epoch: 1 [10000/60000 (17%)]\tLoss: 1.461915\n",
      "Train Epoch: 1 [20000/60000 (33%)]\tLoss: 1.022022\n",
      "Train Epoch: 1 [30000/60000 (50%)]\tLoss: 0.661976\n",
      "Train Epoch: 1 [40000/60000 (67%)]\tLoss: 0.533197\n",
      "Train Epoch: 1 [50000/60000 (83%)]\tLoss: 0.405297\n",
      "| \u001b[95m2        \u001b[0m | \u001b[95m88.82    \u001b[0m | \u001b[95m0.9145   \u001b[0m | \u001b[95m0.9091   \u001b[0m | \u001b[95m-4.255   \u001b[0m | \u001b[95m-4.309   \u001b[0m |\n",
      "Train Epoch: 2 [0/60000 (0%)]\tLoss: 0.418640\n",
      "Train Epoch: 2 [10000/60000 (17%)]\tLoss: 0.403703\n",
      "Train Epoch: 2 [20000/60000 (33%)]\tLoss: 0.119529\n",
      "Train Epoch: 2 [30000/60000 (50%)]\tLoss: 0.232999\n",
      "Train Epoch: 2 [40000/60000 (67%)]\tLoss: 0.134116\n",
      "Train Epoch: 2 [50000/60000 (83%)]\tLoss: 0.091638\n",
      "| \u001b[95m3        \u001b[0m | \u001b[95m97.51    \u001b[0m | \u001b[95m0.9393   \u001b[0m | \u001b[95m0.9533   \u001b[0m | \u001b[95m-3.323   \u001b[0m | \u001b[95m-3.63    \u001b[0m |\n",
      "Train Epoch: 3 [0/60000 (0%)]\tLoss: 0.106524\n",
      "Train Epoch: 3 [10000/60000 (17%)]\tLoss: 0.052618\n",
      "Train Epoch: 3 [20000/60000 (33%)]\tLoss: 0.153230\n",
      "Train Epoch: 3 [30000/60000 (50%)]\tLoss: 0.130498\n",
      "Train Epoch: 3 [40000/60000 (67%)]\tLoss: 0.174301\n",
      "Train Epoch: 3 [50000/60000 (83%)]\tLoss: 0.059798\n",
      "| \u001b[95m4        \u001b[0m | \u001b[95m97.77    \u001b[0m | \u001b[95m0.9202   \u001b[0m | \u001b[95m0.9869   \u001b[0m | \u001b[95m-4.89    \u001b[0m | \u001b[95m-3.659   \u001b[0m |\n",
      "Train Epoch: 4 [0/60000 (0%)]\tLoss: 0.060091\n",
      "Train Epoch: 4 [10000/60000 (17%)]\tLoss: 0.098163\n",
      "Train Epoch: 4 [20000/60000 (33%)]\tLoss: 0.048991\n",
      "Train Epoch: 4 [30000/60000 (50%)]\tLoss: 0.089393\n",
      "Train Epoch: 4 [40000/60000 (67%)]\tLoss: 0.066350\n",
      "Train Epoch: 4 [50000/60000 (83%)]\tLoss: 0.182261\n",
      "| \u001b[95m5        \u001b[0m | \u001b[95m97.93    \u001b[0m | \u001b[95m0.9413   \u001b[0m | \u001b[95m0.9553   \u001b[0m | \u001b[95m-4.438   \u001b[0m | \u001b[95m-4.604   \u001b[0m |\n",
      "Train Epoch: 5 [0/60000 (0%)]\tLoss: 0.019104\n",
      "Train Epoch: 5 [10000/60000 (17%)]\tLoss: 0.241234\n",
      "Train Epoch: 5 [20000/60000 (33%)]\tLoss: 0.115270\n",
      "Train Epoch: 5 [30000/60000 (50%)]\tLoss: 0.178434\n",
      "Train Epoch: 5 [40000/60000 (67%)]\tLoss: 0.209553\n",
      "Train Epoch: 5 [50000/60000 (83%)]\tLoss: 0.128445\n",
      "| \u001b[95m6        \u001b[0m | \u001b[95m98.02    \u001b[0m | \u001b[95m0.9008   \u001b[0m | \u001b[95m0.916    \u001b[0m | \u001b[95m-2.163   \u001b[0m | \u001b[95m-3.471   \u001b[0m |\n",
      "Train Epoch: 6 [0/60000 (0%)]\tLoss: 0.118620\n",
      "Train Epoch: 6 [10000/60000 (17%)]\tLoss: 0.025288\n",
      "Train Epoch: 6 [20000/60000 (33%)]\tLoss: 0.112354\n",
      "Train Epoch: 6 [30000/60000 (50%)]\tLoss: 0.048463\n",
      "Train Epoch: 6 [40000/60000 (67%)]\tLoss: 0.052580\n",
      "Train Epoch: 6 [50000/60000 (83%)]\tLoss: 0.033271\n",
      "| \u001b[95m7        \u001b[0m | \u001b[95m98.87    \u001b[0m | \u001b[95m0.9438   \u001b[0m | \u001b[95m0.9409   \u001b[0m | \u001b[95m-2.809   \u001b[0m | \u001b[95m-3.512   \u001b[0m |\n",
      "Train Epoch: 7 [0/60000 (0%)]\tLoss: 0.017622\n",
      "Train Epoch: 7 [10000/60000 (17%)]\tLoss: 2.320512\n",
      "Train Epoch: 7 [20000/60000 (33%)]\tLoss: 2.325844\n",
      "Train Epoch: 7 [30000/60000 (50%)]\tLoss: 1.073990\n",
      "Train Epoch: 7 [40000/60000 (67%)]\tLoss: 0.641266\n",
      "Train Epoch: 7 [50000/60000 (83%)]\tLoss: 0.479825\n",
      "| \u001b[0m8        \u001b[0m | \u001b[0m89.64    \u001b[0m | \u001b[0m0.9617   \u001b[0m | \u001b[0m0.9221   \u001b[0m | \u001b[0m-1.164   \u001b[0m | \u001b[0m-3.391   \u001b[0m |\n",
      "Train Epoch: 8 [0/60000 (0%)]\tLoss: 0.847747\n",
      "Train Epoch: 8 [10000/60000 (17%)]\tLoss: 0.585087\n",
      "Train Epoch: 8 [20000/60000 (33%)]\tLoss: 0.843851\n",
      "Train Epoch: 8 [30000/60000 (50%)]\tLoss: 0.572840\n",
      "Train Epoch: 8 [40000/60000 (67%)]\tLoss: 0.804048\n",
      "Train Epoch: 8 [50000/60000 (83%)]\tLoss: 0.653059\n",
      "| \u001b[0m9        \u001b[0m | \u001b[0m89.34    \u001b[0m | \u001b[0m0.9021   \u001b[0m | \u001b[0m0.98     \u001b[0m | \u001b[0m-1.141   \u001b[0m | \u001b[0m-3.596   \u001b[0m |\n",
      "Train Epoch: 9 [0/60000 (0%)]\tLoss: 0.554251\n",
      "Train Epoch: 9 [10000/60000 (17%)]\tLoss: 0.414576\n",
      "Train Epoch: 9 [20000/60000 (33%)]\tLoss: 0.375471\n",
      "Train Epoch: 9 [30000/60000 (50%)]\tLoss: 0.368594\n",
      "Train Epoch: 9 [40000/60000 (67%)]\tLoss: 0.230749\n",
      "Train Epoch: 9 [50000/60000 (83%)]\tLoss: 0.224344\n",
      "| \u001b[0m10       \u001b[0m | \u001b[0m96.16    \u001b[0m | \u001b[0m0.9287   \u001b[0m | \u001b[0m0.9623   \u001b[0m | \u001b[0m-2.826   \u001b[0m | \u001b[0m-3.53    \u001b[0m |\n",
      "Train Epoch: 10 [0/60000 (0%)]\tLoss: 0.307415\n",
      "Train Epoch: 10 [10000/60000 (17%)]\tLoss: 0.180247\n",
      "Train Epoch: 10 [20000/60000 (33%)]\tLoss: 0.283347\n",
      "Train Epoch: 10 [30000/60000 (50%)]\tLoss: 0.132028\n",
      "Train Epoch: 10 [40000/60000 (67%)]\tLoss: 0.171566\n",
      "Train Epoch: 10 [50000/60000 (83%)]\tLoss: 0.058528\n",
      "| \u001b[0m11       \u001b[0m | \u001b[0m97.56    \u001b[0m | \u001b[0m0.999    \u001b[0m | \u001b[0m0.9      \u001b[0m | \u001b[0m-2.618   \u001b[0m | \u001b[0m-3.417   \u001b[0m |\n",
      "Train Epoch: 11 [0/60000 (0%)]\tLoss: 0.110716\n",
      "Train Epoch: 11 [10000/60000 (17%)]\tLoss: 0.061403\n",
      "Train Epoch: 11 [20000/60000 (33%)]\tLoss: 0.043515\n",
      "Train Epoch: 11 [30000/60000 (50%)]\tLoss: 0.067364\n",
      "Train Epoch: 11 [40000/60000 (67%)]\tLoss: 0.174961\n",
      "Train Epoch: 11 [50000/60000 (83%)]\tLoss: 0.063303\n",
      "| \u001b[0m12       \u001b[0m | \u001b[0m97.93    \u001b[0m | \u001b[0m0.999    \u001b[0m | \u001b[0m0.9      \u001b[0m | \u001b[0m-2.868   \u001b[0m | \u001b[0m-3.29    \u001b[0m |\n",
      "Train Epoch: 12 [0/60000 (0%)]\tLoss: 0.053684\n",
      "Train Epoch: 12 [10000/60000 (17%)]\tLoss: 0.040143\n",
      "Train Epoch: 12 [20000/60000 (33%)]\tLoss: 0.026106\n",
      "Train Epoch: 12 [30000/60000 (50%)]\tLoss: 0.070876\n",
      "Train Epoch: 12 [40000/60000 (67%)]\tLoss: 0.060351\n",
      "Train Epoch: 12 [50000/60000 (83%)]\tLoss: 0.122080\n",
      "| \u001b[0m13       \u001b[0m | \u001b[0m98.48    \u001b[0m | \u001b[0m0.9322   \u001b[0m | \u001b[0m0.9629   \u001b[0m | \u001b[0m-3.398   \u001b[0m | \u001b[0m-3.497   \u001b[0m |\n",
      "Train Epoch: 13 [0/60000 (0%)]\tLoss: 0.050517\n",
      "Train Epoch: 13 [10000/60000 (17%)]\tLoss: 0.027965\n",
      "Train Epoch: 13 [20000/60000 (33%)]\tLoss: 0.094396\n",
      "Train Epoch: 13 [30000/60000 (50%)]\tLoss: 0.219099\n",
      "Train Epoch: 13 [40000/60000 (67%)]\tLoss: 0.023090\n",
      "Train Epoch: 13 [50000/60000 (83%)]\tLoss: 0.046846\n",
      "| \u001b[0m14       \u001b[0m | \u001b[0m98.54    \u001b[0m | \u001b[0m0.9459   \u001b[0m | \u001b[0m0.9968   \u001b[0m | \u001b[0m-4.36    \u001b[0m | \u001b[0m-4.926   \u001b[0m |\n",
      "Train Epoch: 14 [0/60000 (0%)]\tLoss: 0.206733\n",
      "Train Epoch: 14 [10000/60000 (17%)]\tLoss: 0.049428\n",
      "Train Epoch: 14 [20000/60000 (33%)]\tLoss: 0.020781\n",
      "Train Epoch: 14 [30000/60000 (50%)]\tLoss: 0.056664\n",
      "Train Epoch: 14 [40000/60000 (67%)]\tLoss: 0.047663\n",
      "Train Epoch: 14 [50000/60000 (83%)]\tLoss: 0.142430\n",
      "| \u001b[0m15       \u001b[0m | \u001b[0m98.69    \u001b[0m | \u001b[0m0.999    \u001b[0m | \u001b[0m0.9      \u001b[0m | \u001b[0m-4.071   \u001b[0m | \u001b[0m-4.815   \u001b[0m |\n",
      "Train Epoch: 15 [0/60000 (0%)]\tLoss: 0.024155\n",
      "Train Epoch: 15 [10000/60000 (17%)]\tLoss: 0.144211\n",
      "Train Epoch: 15 [20000/60000 (33%)]\tLoss: 0.024598\n",
      "Train Epoch: 15 [30000/60000 (50%)]\tLoss: 0.091190\n",
      "Train Epoch: 15 [40000/60000 (67%)]\tLoss: 0.117108\n",
      "Train Epoch: 15 [50000/60000 (83%)]\tLoss: 0.052974\n",
      "| \u001b[0m16       \u001b[0m | \u001b[0m98.73    \u001b[0m | \u001b[0m0.9344   \u001b[0m | \u001b[0m0.9569   \u001b[0m | \u001b[0m-4.437   \u001b[0m | \u001b[0m-4.617   \u001b[0m |\n",
      "Train Epoch: 16 [0/60000 (0%)]\tLoss: 0.018549\n",
      "Train Epoch: 16 [10000/60000 (17%)]\tLoss: 0.021964\n",
      "Train Epoch: 16 [20000/60000 (33%)]\tLoss: 0.058530\n",
      "Train Epoch: 16 [30000/60000 (50%)]\tLoss: 0.037445\n",
      "Train Epoch: 16 [40000/60000 (67%)]\tLoss: 0.052318\n",
      "Train Epoch: 16 [50000/60000 (83%)]\tLoss: 0.114393\n",
      "| \u001b[0m17       \u001b[0m | \u001b[0m98.78    \u001b[0m | \u001b[0m0.999    \u001b[0m | \u001b[0m0.9      \u001b[0m | \u001b[0m-3.724   \u001b[0m | \u001b[0m-3.647   \u001b[0m |\n",
      "Train Epoch: 17 [0/60000 (0%)]\tLoss: 0.033942\n",
      "Train Epoch: 17 [10000/60000 (17%)]\tLoss: 0.080225\n",
      "Train Epoch: 17 [20000/60000 (33%)]\tLoss: 0.118318\n",
      "Train Epoch: 17 [30000/60000 (50%)]\tLoss: 0.134814\n",
      "Train Epoch: 17 [40000/60000 (67%)]\tLoss: 0.034550\n",
      "Train Epoch: 17 [50000/60000 (83%)]\tLoss: 0.084082\n",
      "| \u001b[0m18       \u001b[0m | \u001b[0m98.5     \u001b[0m | \u001b[0m0.9232   \u001b[0m | \u001b[0m0.9443   \u001b[0m | \u001b[0m-2.8     \u001b[0m | \u001b[0m-3.102   \u001b[0m |\n",
      "Train Epoch: 18 [0/60000 (0%)]\tLoss: 0.053420\n",
      "Train Epoch: 18 [10000/60000 (17%)]\tLoss: 0.109209\n",
      "Train Epoch: 18 [20000/60000 (33%)]\tLoss: 0.040310\n",
      "Train Epoch: 18 [30000/60000 (50%)]\tLoss: 0.027327\n",
      "Train Epoch: 18 [40000/60000 (67%)]\tLoss: 0.063202\n",
      "Train Epoch: 18 [50000/60000 (83%)]\tLoss: 0.019807\n",
      "| \u001b[0m19       \u001b[0m | \u001b[0m98.75    \u001b[0m | \u001b[0m0.999    \u001b[0m | \u001b[0m0.999    \u001b[0m | \u001b[0m-3.753   \u001b[0m | \u001b[0m-3.277   \u001b[0m |\n",
      "Train Epoch: 19 [0/60000 (0%)]\tLoss: 0.059392\n",
      "Train Epoch: 19 [10000/60000 (17%)]\tLoss: 0.063092\n",
      "Train Epoch: 19 [20000/60000 (33%)]\tLoss: 0.055305\n",
      "Train Epoch: 19 [30000/60000 (50%)]\tLoss: 0.015818\n",
      "Train Epoch: 19 [40000/60000 (67%)]\tLoss: 0.060554\n",
      "Train Epoch: 19 [50000/60000 (83%)]\tLoss: 0.062311\n",
      "| \u001b[0m20       \u001b[0m | \u001b[0m98.81    \u001b[0m | \u001b[0m0.9      \u001b[0m | \u001b[0m0.9      \u001b[0m | \u001b[0m-4.07    \u001b[0m | \u001b[0m-3.454   \u001b[0m |\n",
      "Train Epoch: 20 [0/60000 (0%)]\tLoss: 0.038258\n",
      "Train Epoch: 20 [10000/60000 (17%)]\tLoss: 0.007542\n",
      "Train Epoch: 20 [20000/60000 (33%)]\tLoss: 0.085084\n",
      "Train Epoch: 20 [30000/60000 (50%)]\tLoss: 0.069021\n",
      "Train Epoch: 20 [40000/60000 (67%)]\tLoss: 0.027047\n",
      "Train Epoch: 20 [50000/60000 (83%)]\tLoss: 0.005489\n",
      "| \u001b[0m21       \u001b[0m | \u001b[0m98.87    \u001b[0m | \u001b[0m0.9253   \u001b[0m | \u001b[0m0.9598   \u001b[0m | \u001b[0m-4.105   \u001b[0m | \u001b[0m-3.052   \u001b[0m |\n",
      "Train Epoch: 21 [0/60000 (0%)]\tLoss: 0.087087\n",
      "Train Epoch: 21 [10000/60000 (17%)]\tLoss: 0.046111\n",
      "Train Epoch: 21 [20000/60000 (33%)]\tLoss: 0.024895\n",
      "Train Epoch: 21 [30000/60000 (50%)]\tLoss: 0.062696\n",
      "Train Epoch: 21 [40000/60000 (67%)]\tLoss: 0.050362\n",
      "Train Epoch: 21 [50000/60000 (83%)]\tLoss: 0.042155\n",
      "| \u001b[0m22       \u001b[0m | \u001b[0m98.87    \u001b[0m | \u001b[0m0.9436   \u001b[0m | \u001b[0m0.9876   \u001b[0m | \u001b[0m-4.439   \u001b[0m | \u001b[0m-3.304   \u001b[0m |\n",
      "Train Epoch: 22 [0/60000 (0%)]\tLoss: 0.072077\n",
      "Train Epoch: 22 [10000/60000 (17%)]\tLoss: 0.020088\n",
      "Train Epoch: 22 [20000/60000 (33%)]\tLoss: 0.019534\n",
      "Train Epoch: 22 [30000/60000 (50%)]\tLoss: 0.040330\n",
      "Train Epoch: 22 [40000/60000 (67%)]\tLoss: 0.052515\n",
      "Train Epoch: 22 [50000/60000 (83%)]\tLoss: 0.026800\n",
      "| \u001b[0m23       \u001b[0m | \u001b[0m98.86    \u001b[0m | \u001b[0m0.9161   \u001b[0m | \u001b[0m0.9008   \u001b[0m | \u001b[0m-4.832   \u001b[0m | \u001b[0m-3.233   \u001b[0m |\n",
      "Train Epoch: 23 [0/60000 (0%)]\tLoss: 0.027690\n",
      "Train Epoch: 23 [10000/60000 (17%)]\tLoss: 0.073018\n",
      "Train Epoch: 23 [20000/60000 (33%)]\tLoss: 0.006412\n",
      "Train Epoch: 23 [30000/60000 (50%)]\tLoss: 0.019662\n",
      "Train Epoch: 23 [40000/60000 (67%)]\tLoss: 0.050155\n",
      "Train Epoch: 23 [50000/60000 (83%)]\tLoss: 0.038985\n",
      "| \u001b[0m24       \u001b[0m | \u001b[0m98.86    \u001b[0m | \u001b[0m0.9302   \u001b[0m | \u001b[0m0.9548   \u001b[0m | \u001b[0m-4.564   \u001b[0m | \u001b[0m-3.007   \u001b[0m |\n",
      "Train Epoch: 24 [0/60000 (0%)]\tLoss: 0.061667\n",
      "Train Epoch: 24 [10000/60000 (17%)]\tLoss: 0.168953\n",
      "Train Epoch: 24 [20000/60000 (33%)]\tLoss: 0.022684\n",
      "Train Epoch: 24 [30000/60000 (50%)]\tLoss: 0.116425\n",
      "Train Epoch: 24 [40000/60000 (67%)]\tLoss: 0.046619\n",
      "Train Epoch: 24 [50000/60000 (83%)]\tLoss: 0.047777\n",
      "| \u001b[95m25       \u001b[0m | \u001b[95m98.92    \u001b[0m | \u001b[95m0.981    \u001b[0m | \u001b[95m0.9162   \u001b[0m | \u001b[95m-4.94    \u001b[0m | \u001b[95m-4.678   \u001b[0m |\n",
      "Train Epoch: 25 [0/60000 (0%)]\tLoss: 0.046764\n",
      "Train Epoch: 25 [10000/60000 (17%)]\tLoss: 0.017505\n",
      "Train Epoch: 25 [20000/60000 (33%)]\tLoss: 0.069996\n",
      "Train Epoch: 25 [30000/60000 (50%)]\tLoss: 0.041400\n",
      "Train Epoch: 25 [40000/60000 (67%)]\tLoss: 0.021684\n",
      "Train Epoch: 25 [50000/60000 (83%)]\tLoss: 0.129724\n",
      "| \u001b[0m26       \u001b[0m | \u001b[0m98.87    \u001b[0m | \u001b[0m0.9      \u001b[0m | \u001b[0m0.9393   \u001b[0m | \u001b[0m-4.606   \u001b[0m | \u001b[0m-4.795   \u001b[0m |\n",
      "Train Epoch: 26 [0/60000 (0%)]\tLoss: 0.097464\n",
      "Train Epoch: 26 [10000/60000 (17%)]\tLoss: 0.022087\n",
      "Train Epoch: 26 [20000/60000 (33%)]\tLoss: 0.032329\n",
      "Train Epoch: 26 [30000/60000 (50%)]\tLoss: 0.016673\n",
      "Train Epoch: 26 [40000/60000 (67%)]\tLoss: 0.026532\n",
      "Train Epoch: 26 [50000/60000 (83%)]\tLoss: 0.040374\n",
      "| \u001b[0m27       \u001b[0m | \u001b[0m98.92    \u001b[0m | \u001b[0m0.999    \u001b[0m | \u001b[0m0.9      \u001b[0m | \u001b[0m-4.897   \u001b[0m | \u001b[0m-4.891   \u001b[0m |\n",
      "Train Epoch: 27 [0/60000 (0%)]\tLoss: 0.008227\n",
      "Train Epoch: 27 [10000/60000 (17%)]\tLoss: 0.147303\n",
      "Train Epoch: 27 [20000/60000 (33%)]\tLoss: 0.099061\n",
      "Train Epoch: 27 [30000/60000 (50%)]\tLoss: 0.121032\n",
      "Train Epoch: 27 [40000/60000 (67%)]\tLoss: 0.086887\n",
      "Train Epoch: 27 [50000/60000 (83%)]\tLoss: 0.011179\n",
      "| \u001b[0m28       \u001b[0m | \u001b[0m98.92    \u001b[0m | \u001b[0m0.9694   \u001b[0m | \u001b[0m0.9031   \u001b[0m | \u001b[0m-4.642   \u001b[0m | \u001b[0m-3.452   \u001b[0m |\n",
      "Train Epoch: 28 [0/60000 (0%)]\tLoss: 0.112625\n",
      "Train Epoch: 28 [10000/60000 (17%)]\tLoss: 0.081914\n",
      "Train Epoch: 28 [20000/60000 (33%)]\tLoss: 0.160036\n",
      "Train Epoch: 28 [30000/60000 (50%)]\tLoss: 0.022394\n",
      "Train Epoch: 28 [40000/60000 (67%)]\tLoss: 0.012156\n",
      "Train Epoch: 28 [50000/60000 (83%)]\tLoss: 0.019507\n",
      "| \u001b[95m29       \u001b[0m | \u001b[95m98.95    \u001b[0m | \u001b[95m0.9002   \u001b[0m | \u001b[95m0.9503   \u001b[0m | \u001b[95m-4.362   \u001b[0m | \u001b[95m-3.599   \u001b[0m |\n",
      "Train Epoch: 29 [0/60000 (0%)]\tLoss: 0.046695\n",
      "Train Epoch: 29 [10000/60000 (17%)]\tLoss: 0.072157\n",
      "Train Epoch: 29 [20000/60000 (33%)]\tLoss: 0.029694\n",
      "Train Epoch: 29 [30000/60000 (50%)]\tLoss: 0.025192\n",
      "Train Epoch: 29 [40000/60000 (67%)]\tLoss: 0.066796\n",
      "Train Epoch: 29 [50000/60000 (83%)]\tLoss: 0.049867\n",
      "| \u001b[0m30       \u001b[0m | \u001b[0m98.95    \u001b[0m | \u001b[0m0.9633   \u001b[0m | \u001b[0m0.9455   \u001b[0m | \u001b[0m-4.052   \u001b[0m | \u001b[0m-3.714   \u001b[0m |\n",
      "=========================================================================\n"
     ]
    }
   ],
   "source": [
    "bayesian_optimizer.maximize(\n",
    "    init_points = init_points,\n",
    "    n_iter = n_iter)"
   ]
  },
  {
   "cell_type": "markdown",
   "metadata": {},
   "source": [
    "#### 输出"
   ]
  },
  {
   "cell_type": "code",
   "execution_count": 8,
   "metadata": {},
   "outputs": [
    {
     "data": {
      "image/png": "[encoded data removed]",
      "text/plain": [
       "<Figure size 640x480 with 1 Axes>"
      ]
     },
     "metadata": {},
     "output_type": "display_data"
    },
    {
     "data": {
      "image/png": "[encoded data removed]",
      "text/plain": [
       "<Figure size 640x480 with 1 Axes>"
      ]
     },
     "metadata": {},
     "output_type": "display_data"
    },
    {
     "data": {
      "image/png": "[encoded data removed]",
      "text/plain": [
       "<Figure size 640x480 with 1 Axes>"
      ]
     },
     "metadata": {},
     "output_type": "display_data"
    },
    {
     "name": "stdout",
     "output_type": "stream",
     "text": [
      "{'target': 98.94999694824219, 'params': {'beta1': 0.900228580663242, 'beta2': 0.9502825353923564, 'learning_rate_log': -4.361886506294216, 'weight_decay_log': -3.5990916530814805}}\n"
     ]
    }
   ],
   "source": [
    "def draw_train_loss():\n",
    "    fig = plt.figure()\n",
    "\n",
    "    for i in range(total_epoch):\n",
    "        start_index = i * len(train_counter) // total_epoch\n",
    "        end_index = (i + 1) * len(train_counter) // total_epoch\n",
    "        plt.plot(train_counter[start_index:end_index], train_losses[start_index:end_index])\n",
    "    \n",
    "    plt.legend(['Train loss'], loc='upper right')\n",
    "    plt.xlabel('number of training examples seen')\n",
    "    plt.ylabel('negative log likelihood loss')\n",
    "    plt.show()\n",
    "\n",
    "def draw_test_loss():\n",
    "    fig = plt.figure()\n",
    "    plt.plot([x / len(train_loader.dataset) for x in test_counter][:init_points], \n",
    "             test_losses[:init_points], \n",
    "             color='red', label='Test loss (Init Points)')\n",
    "    plt.plot([x / len(train_loader.dataset) for x in test_counter][init_points:-1], \n",
    "             test_losses[init_points:], \n",
    "             color='blue', label='Test loss (n_iter)')\n",
    "    plt.legend(['Test Loss'], loc='upper right')\n",
    "    plt.xlabel('epoch')\n",
    "    plt.ylabel('negative log likelihood loss')\n",
    "    plt.show()\n",
    "\n",
    "def draw_accuracy():\n",
    "    fig = plt.figure()\n",
    "    plt.plot([x / len(train_loader.dataset) for x in test_counter][:init_points], \n",
    "             [x.item() for x in accuracy_counter[:init_points]], \n",
    "             color='red', label='Accuracy (Init Points)')\n",
    "    plt.plot([x / len(train_loader.dataset) for x in test_counter][init_points:-1], \n",
    "             [x.item() for x in accuracy_counter[init_points:]], \n",
    "             color='blue', label='Accuracy (n_iter)')\n",
    "    plt.legend(loc='lower right')\n",
    "    plt.xlabel('epoch')\n",
    "    plt.ylabel('accuracy')\n",
    "    plt.show()\n",
    "\n",
    "draw_train_loss()\n",
    "draw_test_loss()\n",
    "draw_accuracy()\n",
    "\n",
    "#输出最优参数组合, target 就是 accuracy\n",
    "print(bayesian_optimizer.max)"
   ]
  }
 ],
 "metadata": {
  "kernelspec": {
   "display_name": "pytorch",
   "language": "python",
   "name": "python3"
  },
  "language_info": {
   "codemirror_mode": {
    "name": "ipython",
    "version": 3
   },
   "file_extension": ".py",
   "mimetype": "text/x-python",
   "name": "python",
   "nbconvert_exporter": "python",
   "pygments_lexer": "ipython3",
   "version": "3.11.5"
  }
 },
 "nbformat": 4,
 "nbformat_minor": 2
}
