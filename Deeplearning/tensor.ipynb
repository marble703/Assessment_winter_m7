{
 "cells": [
  {
   "cell_type": "markdown",
   "metadata": {},
   "source": [
    "## 对张量(tensor)的基本运用："
   ]
  },
  {
   "cell_type": "code",
   "execution_count": 1,
   "metadata": {},
   "outputs": [],
   "source": [
    "import torch\n",
    "import math\n",
    "import numpy as np"
   ]
  },
  {
   "cell_type": "markdown",
   "metadata": {},
   "source": [
    "### 1. 创建一个5行3列的随机张量X"
   ]
  },
  {
   "cell_type": "code",
   "execution_count": 2,
   "metadata": {},
   "outputs": [
    {
     "name": "stdout",
     "output_type": "stream",
     "text": [
      "tensor([[0.8727, 0.7831, 0.6232],\n",
      "        [0.6307, 0.4965, 0.1589],\n",
      "        [0.2637, 0.6801, 0.3841],\n",
      "        [0.9899, 0.0247, 0.9769],\n",
      "        [0.7091, 0.5102, 0.5920]])\n"
     ]
    }
   ],
   "source": [
    "X = torch.rand(5, 3)\n",
    "print(X)"
   ]
  },
  {
   "cell_type": "markdown",
   "metadata": {},
   "source": [
    "### 2. 用pytorch内置函数检测X的shape，dtype，device"
   ]
  },
  {
   "cell_type": "code",
   "execution_count": 3,
   "metadata": {},
   "outputs": [
    {
     "name": "stdout",
     "output_type": "stream",
     "text": [
      "torch.Size([5, 3])\n",
      "torch.float32\n",
      "cpu\n"
     ]
    }
   ],
   "source": [
    "print(X.shape)\n",
    "print(X.dtype)\n",
    "print(X.device)"
   ]
  },
  {
   "cell_type": "markdown",
   "metadata": {},
   "source": [
    "### 3. 直接创建一个[[1,2,3,4,5],[6,7,8,9,10],[11,12,13,14,15]]的张量Y"
   ]
  },
  {
   "cell_type": "code",
   "execution_count": 4,
   "metadata": {},
   "outputs": [
    {
     "name": "stdout",
     "output_type": "stream",
     "text": [
      "tensor([[ 1,  2,  3,  4,  5],\n",
      "        [ 6,  7,  8,  9, 10],\n",
      "        [11, 12, 13, 14, 15]])\n"
     ]
    }
   ],
   "source": [
    "Y = torch.tensor([[1,2,3,4,5],[6,7,8,9,10],[11,12,13,14,15]])\n",
    "print(Y)"
   ]
  },
  {
   "cell_type": "markdown",
   "metadata": {},
   "source": [
    "### 4. 用任意方法将Y的维度转变为5行3列"
   ]
  },
  {
   "cell_type": "code",
   "execution_count": 5,
   "metadata": {},
   "outputs": [
    {
     "name": "stdout",
     "output_type": "stream",
     "text": [
      "tensor([[ 1,  6, 11],\n",
      "        [ 2,  7, 12],\n",
      "        [ 3,  8, 13],\n",
      "        [ 4,  9, 14],\n",
      "        [ 5, 10, 15]])\n"
     ]
    }
   ],
   "source": [
    "Y = Y.T\n",
    "print(Y)"
   ]
  },
  {
   "cell_type": "markdown",
   "metadata": {},
   "source": [
    "### 5. 实现X和Y的加减乘除，同时了解abs()，sqrt()，neg()，mean()的作用"
   ]
  },
  {
   "cell_type": "code",
   "execution_count": 6,
   "metadata": {},
   "outputs": [
    {
     "name": "stdout",
     "output_type": "stream",
     "text": [
      "X+Y\n",
      "tensor([[ 1.8727,  6.7831, 11.6232],\n",
      "        [ 2.6307,  7.4965, 12.1589],\n",
      "        [ 3.2637,  8.6801, 13.3841],\n",
      "        [ 4.9899,  9.0247, 14.9769],\n",
      "        [ 5.7091, 10.5102, 15.5920]])\n",
      "X-Y\n",
      "tensor([[ -0.1273,  -5.2169, -10.3768],\n",
      "        [ -1.3693,  -6.5035, -11.8411],\n",
      "        [ -2.7363,  -7.3199, -12.6159],\n",
      "        [ -3.0101,  -8.9753, -13.0231],\n",
      "        [ -4.2909,  -9.4898, -14.4080]])\n",
      "X*Y\n",
      "tensor([[ 0.8727,  4.6983,  6.8550],\n",
      "        [ 1.2614,  3.4755,  1.9063],\n",
      "        [ 0.7911,  5.4408,  4.9929],\n",
      "        [ 3.9595,  0.2227, 13.6761],\n",
      "        [ 3.5454,  5.1017,  8.8800]])\n",
      "X/Y\n",
      "tensor([[0.8727, 0.1305, 0.0567],\n",
      "        [0.3154, 0.0709, 0.0132],\n",
      "        [0.0879, 0.0850, 0.0295],\n",
      "        [0.2475, 0.0027, 0.0698],\n",
      "        [0.1418, 0.0510, 0.0395]])\n"
     ]
    }
   ],
   "source": [
    "print(\"X+Y\")\n",
    "print(X+Y)\n",
    "\n",
    "print(\"X-Y\")\n",
    "print(X-Y)\n",
    "\n",
    "print(\"X*Y\")\n",
    "print(X*Y)\n",
    "\n",
    "print(\"X/Y\")\n",
    "print(X/Y)\n",
    "\n"
   ]
  },
  {
   "cell_type": "code",
   "execution_count": 7,
   "metadata": {},
   "outputs": [
    {
     "name": "stdout",
     "output_type": "stream",
     "text": [
      "math.abs(X-Y)\n",
      "tensor([[ 0.1273,  5.2169, 10.3768],\n",
      "        [ 1.3693,  6.5035, 11.8411],\n",
      "        [ 2.7363,  7.3199, 12.6159],\n",
      "        [ 3.0101,  8.9753, 13.0231],\n",
      "        [ 4.2909,  9.4898, 14.4080]])\n",
      "math.sqrt(X)\n",
      "tensor([[0.9342, 0.8849, 0.7894],\n",
      "        [0.7942, 0.7046, 0.3986],\n",
      "        [0.5135, 0.8247, 0.6197],\n",
      "        [0.9949, 0.1573, 0.9884],\n",
      "        [0.8421, 0.7143, 0.7694]])\n",
      "torch.neg(X)\n",
      "tensor([[-0.8727, -0.7831, -0.6232],\n",
      "        [-0.6307, -0.4965, -0.1589],\n",
      "        [-0.2637, -0.6801, -0.3841],\n",
      "        [-0.9899, -0.0247, -0.9769],\n",
      "        [-0.7091, -0.5102, -0.5920]])\n",
      "torch.mean(X)\n",
      "tensor(0.5797)\n"
     ]
    }
   ],
   "source": [
    "print(\"math.abs(X-Y)\")\n",
    "print(abs(X-Y))\n",
    "\n",
    "print(\"math.sqrt(X)\")\n",
    "print(torch.sqrt(X))\n",
    "\n",
    "print(\"torch.neg(X)\")# 取反\n",
    "print(torch.neg(X))\n",
    "\n",
    "print(\"torch.mean(X)\")\n",
    "print(torch.mean(X))"
   ]
  },
  {
   "cell_type": "markdown",
   "metadata": {},
   "source": [
    "### 6. *了解内置函数max()，argmax()，sum()，同时知道其内参dim的作用"
   ]
  },
  {
   "cell_type": "code",
   "execution_count": 8,
   "metadata": {},
   "outputs": [
    {
     "name": "stdout",
     "output_type": "stream",
     "text": [
      "tensor([[0.8727, 0.7831, 0.6232],\n",
      "        [0.6307, 0.4965, 0.1589],\n",
      "        [0.2637, 0.6801, 0.3841],\n",
      "        [0.9899, 0.0247, 0.9769],\n",
      "        [0.7091, 0.5102, 0.5920]])\n",
      "torch.max(X)\n",
      "tensor(0.9899)\n",
      "torch.argmax(X)\n",
      "tensor(9)\n",
      "torch.sum(X)\n",
      "tensor(8.6956)\n"
     ]
    }
   ],
   "source": [
    "print(X)\n",
    "print(\"torch.max(X)\")\n",
    "print(torch.max(X))\n",
    "\n",
    "print(\"torch.argmax(X)\")\n",
    "print(torch.argmax(X))# 最大值索引\n",
    "\n",
    "print(\"torch.sum(X)\")\n",
    "print(torch.sum(X))"
   ]
  },
  {
   "cell_type": "code",
   "execution_count": 9,
   "metadata": {},
   "outputs": [
    {
     "name": "stdout",
     "output_type": "stream",
     "text": [
      "dim = 0\n",
      "tensor([3, 0, 3])\n",
      "dim = 1\n",
      "tensor([0, 0, 1, 0, 0])\n"
     ]
    }
   ],
   "source": [
    "print(\"dim = 0\")\n",
    "print(torch.argmax(X,dim = 0))# 每列最大值索引\n",
    "\n",
    "print(\"dim = 1\")\n",
    "print(torch.argmax(X,dim = 1))# 每行最大值索引"
   ]
  },
  {
   "cell_type": "markdown",
   "metadata": {},
   "source": [
    "### 7. 将张量X转为Numpy格式，再将其转回来。"
   ]
  },
  {
   "cell_type": "code",
   "execution_count": 10,
   "metadata": {},
   "outputs": [
    {
     "name": "stdout",
     "output_type": "stream",
     "text": [
      "[[0.8726941  0.78305244 0.6231803 ]\n",
      " [0.6307074  0.496507   0.1588561 ]\n",
      " [0.26369596 0.6800956  0.384071  ]\n",
      " [0.98987097 0.02474755 0.9768649 ]\n",
      " [0.70908177 0.5101712  0.59200114]]\n",
      "<class 'numpy.ndarray'>\n",
      "tensor([[0.8727, 0.7831, 0.6232],\n",
      "        [0.6307, 0.4965, 0.1589],\n",
      "        [0.2637, 0.6801, 0.3841],\n",
      "        [0.9899, 0.0247, 0.9769],\n",
      "        [0.7091, 0.5102, 0.5920]])\n",
      "<class 'torch.Tensor'>\n"
     ]
    }
   ],
   "source": [
    "X_n = X.numpy()\n",
    "print(X_n)\n",
    "print(type(X_n))\n",
    "\n",
    "X_n_p = torch.from_numpy(X_n)\n",
    "print(X_n_p)\n",
    "print(type(X_n_p))"
   ]
  },
  {
   "cell_type": "markdown",
   "metadata": {},
   "source": [
    "###  8. 将张量X放到cuda上。"
   ]
  },
  {
   "cell_type": "code",
   "execution_count": 11,
   "metadata": {},
   "outputs": [
    {
     "data": {
      "text/plain": [
       "tensor([[0.8727, 0.7831, 0.6232],\n",
       "        [0.6307, 0.4965, 0.1589],\n",
       "        [0.2637, 0.6801, 0.3841],\n",
       "        [0.9899, 0.0247, 0.9769],\n",
       "        [0.7091, 0.5102, 0.5920]], device='cuda:0')"
      ]
     },
     "execution_count": 11,
     "metadata": {},
     "output_type": "execute_result"
    }
   ],
   "source": [
    "if torch.cuda.is_available():\n",
    "    device = torch.device(\"cuda\")\n",
    "else:\n",
    "    device = torch.device(\"cpu\")\n",
    "\n",
    "X.to(device)\n",
    "\n"
   ]
  },
  {
   "cell_type": "markdown",
   "metadata": {},
   "source": [
    "###  9. *学会张量的拼接，解压，压缩，广播，以及Numpy的transpose函数"
   ]
  },
  {
   "cell_type": "markdown",
   "metadata": {},
   "source": [
    "#### 拼接:\n",
    "两个矩阵有一个维度相等时，将 Tensor 拼接，  \n",
    "dim = 0 拼接行  \n",
    "dim = 1 拼接列"
   ]
  },
  {
   "cell_type": "code",
   "execution_count": 12,
   "metadata": {},
   "outputs": [
    {
     "name": "stdout",
     "output_type": "stream",
     "text": [
      "torch.Size([5, 3])\n",
      "torch.Size([5, 3])\n",
      "tensor([[ 0.8727,  0.7831,  0.6232],\n",
      "        [ 0.6307,  0.4965,  0.1589],\n",
      "        [ 0.2637,  0.6801,  0.3841],\n",
      "        [ 0.9899,  0.0247,  0.9769],\n",
      "        [ 0.7091,  0.5102,  0.5920],\n",
      "        [ 1.0000,  6.0000, 11.0000],\n",
      "        [ 2.0000,  7.0000, 12.0000],\n",
      "        [ 3.0000,  8.0000, 13.0000],\n",
      "        [ 4.0000,  9.0000, 14.0000],\n",
      "        [ 5.0000, 10.0000, 15.0000]])\n",
      "torch.Size([10, 3])\n",
      "tensor([[ 0.8727,  0.7831,  0.6232,  1.0000,  6.0000, 11.0000],\n",
      "        [ 0.6307,  0.4965,  0.1589,  2.0000,  7.0000, 12.0000],\n",
      "        [ 0.2637,  0.6801,  0.3841,  3.0000,  8.0000, 13.0000],\n",
      "        [ 0.9899,  0.0247,  0.9769,  4.0000,  9.0000, 14.0000],\n",
      "        [ 0.7091,  0.5102,  0.5920,  5.0000, 10.0000, 15.0000]])\n",
      "torch.Size([5, 6])\n"
     ]
    }
   ],
   "source": [
    "print(X.shape)\n",
    "print(Y.shape)\n",
    "\n",
    "X_Y=torch.cat((X,Y),0)\n",
    "print(X_Y)\n",
    "print(X_Y.shape)\n",
    "\n",
    "Y_X=torch.cat((X,Y),1)\n",
    "print(Y_X)\n",
    "print(Y_X.shape)"
   ]
  },
  {
   "cell_type": "markdown",
   "metadata": {},
   "source": [
    "#### 压缩：\n",
    "将输入 Tensor 中的一维数据删除（降维打击！）。\n",
    "当给定dim时，只在给定维度上操作。"
   ]
  },
  {
   "cell_type": "code",
   "execution_count": 13,
   "metadata": {},
   "outputs": [
    {
     "name": "stdout",
     "output_type": "stream",
     "text": [
      "torch.Size([2, 1, 2, 1, 2])\n",
      "torch.Size([2, 2, 2])\n"
     ]
    }
   ],
   "source": [
    "m = torch.zeros(2,1,2,1,2)\n",
    "print(m.size())\n",
    "m_s = torch.squeeze(m)\n",
    "print(m_s.size())"
   ]
  },
  {
   "cell_type": "markdown",
   "metadata": {},
   "source": [
    "#### 解压：\n",
    "扩展维度，对输入的位置插入一个维度"
   ]
  },
  {
   "cell_type": "code",
   "execution_count": 14,
   "metadata": {},
   "outputs": [
    {
     "name": "stdout",
     "output_type": "stream",
     "text": [
      "torch.Size([2, 2, 2])\n",
      "torch.Size([1, 2, 2, 2])\n"
     ]
    }
   ],
   "source": [
    "print(m_s.size())\n",
    "m_s_us = torch.unsqueeze(m_s, 0)\n",
    "print(m_s_us.size())"
   ]
  },
  {
   "cell_type": "markdown",
   "metadata": {},
   "source": [
    "#### 广播:  \n",
    "对两个形状不同的 Tensor 运算时，复制元素使这两个 Tensor 形状相同,再运算。 \n",
    "\n",
    "如果两个张量维度不同(维数不同)，扩展维度小的，使其与另一个张量相同。\n",
    "如果两个张量某个维度不同（在同一维度上大小不同），但其中一个张量的一个维度大小为 1，在这个维度扩展，使其与另一个张量相同。"
   ]
  },
  {
   "cell_type": "code",
   "execution_count": 15,
   "metadata": {},
   "outputs": [
    {
     "name": "stdout",
     "output_type": "stream",
     "text": [
      "tensor([[1]])\n",
      "tensor([[1],\n",
      "        [2],\n",
      "        [3]])\n",
      "tensor([[1, 2],\n",
      "        [3, 4],\n",
      "        [5, 6]])\n",
      "tensor([[2],\n",
      "        [3],\n",
      "        [4]])\n",
      "tensor([[2, 3],\n",
      "        [5, 6],\n",
      "        [8, 9]])\n"
     ]
    }
   ],
   "source": [
    "a = torch.tensor([[1]])\n",
    "b = torch.tensor([[1],[2],[3]])\n",
    "c = torch.tensor([[1,2],[3,4],[5,6]])\n",
    "print(a)\n",
    "print(b)\n",
    "print(c)\n",
    "print(a + b)# 情况1\n",
    "print(b + c)# 情况2"
   ]
  },
  {
   "cell_type": "markdown",
   "metadata": {},
   "source": [
    "#### Numpy的transpose函数  \n",
    "转置二维数组"
   ]
  },
  {
   "cell_type": "code",
   "execution_count": 16,
   "metadata": {},
   "outputs": [
    {
     "name": "stdout",
     "output_type": "stream",
     "text": [
      "[[1 2]\n",
      " [3 4]\n",
      " [5 6]]\n",
      "[[1 3 5]\n",
      " [2 4 6]]\n"
     ]
    }
   ],
   "source": [
    "print(c.numpy())\n",
    "print(c.numpy().transpose())"
   ]
  }
 ],
 "metadata": {
  "kernelspec": {
   "display_name": "pytorch",
   "language": "python",
   "name": "python3"
  },
  "language_info": {
   "codemirror_mode": {
    "name": "ipython",
    "version": 3
   },
   "file_extension": ".py",
   "mimetype": "text/x-python",
   "name": "python",
   "nbconvert_exporter": "python",
   "pygments_lexer": "ipython3",
   "version": "3.11.5"
  }
 },
 "nbformat": 4,
 "nbformat_minor": 2
}
