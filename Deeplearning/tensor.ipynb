{
 "cells": [
  {
   "cell_type": "markdown",
   "metadata": {},
   "source": [
    "## 对张量(tensor)的基本运用："
   ]
  },
  {
   "cell_type": "code",
   "execution_count": 2,
   "metadata": {},
   "outputs": [],
   "source": [
    "import torch\n",
    "from math import * \n",
    "import numpy as np"
   ]
  },
  {
   "cell_type": "markdown",
   "metadata": {},
   "source": [
    "### 1. 创建一个5行3列的随机张量X"
   ]
  },
  {
   "cell_type": "code",
   "execution_count": 3,
   "metadata": {},
   "outputs": [
    {
     "name": "stdout",
     "output_type": "stream",
     "text": [
      "tensor([[0.9886, 0.3915, 0.8914],\n",
      "        [0.3526, 0.4581, 0.7538],\n",
      "        [0.5626, 0.4342, 0.0579],\n",
      "        [0.9975, 0.7517, 0.6457],\n",
      "        [0.1060, 0.3721, 0.4581]])\n"
     ]
    }
   ],
   "source": [
    "X = torch.rand(5, 3)\n",
    "print(X)"
   ]
  },
  {
   "cell_type": "markdown",
   "metadata": {},
   "source": [
    "### 2. 用pytorch内置函数检测X的shape，dtype，device"
   ]
  },
  {
   "cell_type": "code",
   "execution_count": 4,
   "metadata": {},
   "outputs": [
    {
     "name": "stdout",
     "output_type": "stream",
     "text": [
      "torch.Size([5, 3])\n",
      "torch.float32\n",
      "cpu\n"
     ]
    }
   ],
   "source": [
    "print(X.shape)\n",
    "print(X.dtype)\n",
    "print(X.device)"
   ]
  },
  {
   "cell_type": "markdown",
   "metadata": {},
   "source": [
    "### 3. 直接创建一个[[1,2,3,4,5],[6,7,8,9,10],[11,12,13,14,15]]的张量Y"
   ]
  },
  {
   "cell_type": "code",
   "execution_count": 4,
   "metadata": {},
   "outputs": [
    {
     "name": "stdout",
     "output_type": "stream",
     "text": [
      "tensor([[ 1,  2,  3,  4,  5],\n",
      "        [ 6,  7,  8,  9, 10],\n",
      "        [11, 12, 13, 14, 15]])\n"
     ]
    }
   ],
   "source": [
    "Y = torch.tensor([[1,2,3,4,5],[6,7,8,9,10],[11,12,13,14,15]])\n",
    "print(Y)"
   ]
  },
  {
   "cell_type": "markdown",
   "metadata": {},
   "source": [
    "### 4. 用任意方法将Y的维度转变为5行3列"
   ]
  },
  {
   "cell_type": "code",
   "execution_count": 5,
   "metadata": {},
   "outputs": [
    {
     "name": "stdout",
     "output_type": "stream",
     "text": [
      "tensor([[ 1,  6, 11],\n",
      "        [ 2,  7, 12],\n",
      "        [ 3,  8, 13],\n",
      "        [ 4,  9, 14],\n",
      "        [ 5, 10, 15]])\n"
     ]
    }
   ],
   "source": [
    "Y = Y.T\n",
    "print(Y)"
   ]
  },
  {
   "cell_type": "markdown",
   "metadata": {},
   "source": [
    "### 5. 实现X和Y的加减乘除，同时了解abs()，sqrt()，neg()，mean()的作用"
   ]
  },
  {
   "cell_type": "code",
   "execution_count": 6,
   "metadata": {},
   "outputs": [
    {
     "name": "stdout",
     "output_type": "stream",
     "text": [
      "X+Y\n",
      "tensor([[ 1.0335,  6.0669, 11.3923],\n",
      "        [ 2.9544,  7.3519, 12.8369],\n",
      "        [ 3.2137,  8.7159, 13.9203],\n",
      "        [ 4.6374,  9.9826, 14.6312],\n",
      "        [ 5.9654, 10.4838, 15.0634]])\n",
      "X-Y\n",
      "tensor([[ -0.9665,  -5.9331, -10.6077],\n",
      "        [ -1.0456,  -6.6481, -11.1631],\n",
      "        [ -2.7863,  -7.2841, -12.0797],\n",
      "        [ -3.3626,  -8.0174, -13.3688],\n",
      "        [ -4.0346,  -9.5162, -14.9366]])\n",
      "X*Y\n",
      "tensor([[ 0.0335,  0.4015,  4.3148],\n",
      "        [ 1.9088,  2.4630, 10.0432],\n",
      "        [ 0.6411,  5.7272, 11.9643],\n",
      "        [ 2.5498,  8.8431,  8.8372],\n",
      "        [ 4.8272,  4.8376,  0.9511]])\n",
      "X/Y\n",
      "tensor([[0.0335, 0.0112, 0.0357],\n",
      "        [0.4772, 0.0503, 0.0697],\n",
      "        [0.0712, 0.0895, 0.0708],\n",
      "        [0.1594, 0.1092, 0.0451],\n",
      "        [0.1931, 0.0484, 0.0042]])\n"
     ]
    }
   ],
   "source": [
    "print(\"X+Y\")\n",
    "print(X+Y)\n",
    "\n",
    "print(\"X-Y\")\n",
    "print(X-Y)\n",
    "\n",
    "print(\"X*Y\")\n",
    "print(X*Y)\n",
    "\n",
    "print(\"X/Y\")\n",
    "print(X/Y)\n",
    "\n"
   ]
  },
  {
   "cell_type": "code",
   "execution_count": 7,
   "metadata": {},
   "outputs": [
    {
     "name": "stdout",
     "output_type": "stream",
     "text": [
      "abs(X-Y)\n",
      "tensor([[ 0.9665,  5.9331, 10.6077],\n",
      "        [ 1.0456,  6.6481, 11.1631],\n",
      "        [ 2.7863,  7.2841, 12.0797],\n",
      "        [ 3.3626,  8.0174, 13.3688],\n",
      "        [ 4.0346,  9.5162, 14.9366]])\n",
      "sqrt(X)\n",
      "tensor([[0.1829, 0.2587, 0.6263],\n",
      "        [0.9769, 0.5932, 0.9148],\n",
      "        [0.4623, 0.8461, 0.9593],\n",
      "        [0.7984, 0.9912, 0.7945],\n",
      "        [0.9826, 0.6955, 0.2518]])\n",
      "torch.neg(X)\n",
      "tensor([[-0.0335, -0.0669, -0.3923],\n",
      "        [-0.9544, -0.3519, -0.8369],\n",
      "        [-0.2137, -0.7159, -0.9203],\n",
      "        [-0.6374, -0.9826, -0.6312],\n",
      "        [-0.9654, -0.4838, -0.0634]])\n",
      "torch.mean(X)\n",
      "tensor(0.5500)\n"
     ]
    }
   ],
   "source": [
    "print(\"abs(X-Y)\")\n",
    "print(abs(X-Y))\n",
    "\n",
    "print(\"sqrt(X)\")\n",
    "print(torch.sqrt(X))\n",
    "\n",
    "print(\"torch.neg(X)\")# 取反\n",
    "print(torch.neg(X))\n",
    "\n",
    "print(\"torch.mean(X)\")\n",
    "print(torch.mean(X))"
   ]
  },
  {
   "cell_type": "markdown",
   "metadata": {},
   "source": [
    "### 6. *了解内置函数max()，argmax()，sum()，同时知道其内参dim的作用"
   ]
  },
  {
   "cell_type": "code",
   "execution_count": 8,
   "metadata": {},
   "outputs": [
    {
     "name": "stdout",
     "output_type": "stream",
     "text": [
      "tensor([[0.0335, 0.0669, 0.3923],\n",
      "        [0.9544, 0.3519, 0.8369],\n",
      "        [0.2137, 0.7159, 0.9203],\n",
      "        [0.6374, 0.9826, 0.6312],\n",
      "        [0.9654, 0.4838, 0.0634]])\n",
      "torch.max(X)\n",
      "tensor(0.9826)\n",
      "torch.argmax(X)\n",
      "tensor(10)\n",
      "torch.sum(X)\n",
      "tensor(8.2496)\n"
     ]
    }
   ],
   "source": [
    "print(X)\n",
    "print(\"torch.max(X)\")\n",
    "print(torch.max(X))\n",
    "\n",
    "print(\"torch.argmax(X)\")\n",
    "print(torch.argmax(X))# 最大值索引\n",
    "\n",
    "print(\"torch.sum(X)\")\n",
    "print(torch.sum(X))"
   ]
  },
  {
   "cell_type": "code",
   "execution_count": 9,
   "metadata": {},
   "outputs": [
    {
     "name": "stdout",
     "output_type": "stream",
     "text": [
      "dim = 0\n",
      "tensor([4, 3, 2])\n",
      "dim = 1\n",
      "tensor([2, 0, 2, 1, 0])\n"
     ]
    }
   ],
   "source": [
    "print(\"dim = 0\")\n",
    "print(torch.argmax(X,dim = 0))# 每列最大值索引\n",
    "\n",
    "print(\"dim = 1\")\n",
    "print(torch.argmax(X,dim = 1))# 每行最大值索引"
   ]
  },
  {
   "cell_type": "markdown",
   "metadata": {},
   "source": [
    "### 7. 将张量X转为Numpy格式，再将其转回来。"
   ]
  },
  {
   "cell_type": "code",
   "execution_count": 10,
   "metadata": {},
   "outputs": [
    {
     "name": "stdout",
     "output_type": "stream",
     "text": [
      "[[0.03347009 0.06691724 0.39225447]\n",
      " [0.95441085 0.35186088 0.83693016]\n",
      " [0.21371311 0.71590036 0.92032945]\n",
      " [0.6374431  0.98256755 0.6312259 ]\n",
      " [0.9654492  0.48376137 0.06340355]]\n",
      "<class 'numpy.ndarray'>\n",
      "tensor([[0.0335, 0.0669, 0.3923],\n",
      "        [0.9544, 0.3519, 0.8369],\n",
      "        [0.2137, 0.7159, 0.9203],\n",
      "        [0.6374, 0.9826, 0.6312],\n",
      "        [0.9654, 0.4838, 0.0634]])\n",
      "<class 'torch.Tensor'>\n"
     ]
    }
   ],
   "source": [
    "X_n = X.numpy()\n",
    "print(X_n)\n",
    "print(type(X_n))\n",
    "\n",
    "X_n_p = torch.from_numpy(X_n)\n",
    "print(X_n_p)\n",
    "print(type(X_n_p))"
   ]
  },
  {
   "cell_type": "markdown",
   "metadata": {},
   "source": [
    "###  8. 将张量X放到cuda上。"
   ]
  },
  {
   "cell_type": "code",
   "execution_count": 11,
   "metadata": {},
   "outputs": [
    {
     "data": {
      "text/plain": [
       "tensor([[0.0335, 0.0669, 0.3923],\n",
       "        [0.9544, 0.3519, 0.8369],\n",
       "        [0.2137, 0.7159, 0.9203],\n",
       "        [0.6374, 0.9826, 0.6312],\n",
       "        [0.9654, 0.4838, 0.0634]], device='cuda:0')"
      ]
     },
     "execution_count": 11,
     "metadata": {},
     "output_type": "execute_result"
    }
   ],
   "source": [
    "if torch.cuda.is_available():\n",
    "    device = torch.device(\"cuda\")\n",
    "else:\n",
    "    device = torch.device(\"cpu\")\n",
    "\n",
    "X.to(device)\n",
    "\n"
   ]
  },
  {
   "cell_type": "markdown",
   "metadata": {},
   "source": [
    "###  9. *学会张量的拼接，解压，压缩，广播，以及Numpy的transpose函数"
   ]
  },
  {
   "cell_type": "markdown",
   "metadata": {},
   "source": [
    "#### 拼接:\n",
    "两个矩阵有一个维度相等时，将 Tensor 拼接，  \n",
    "dim = 0 拼接行  \n",
    "dim = 1 拼接列"
   ]
  },
  {
   "cell_type": "code",
   "execution_count": 12,
   "metadata": {},
   "outputs": [
    {
     "name": "stdout",
     "output_type": "stream",
     "text": [
      "torch.Size([5, 3])\n",
      "torch.Size([5, 3])\n",
      "tensor([[ 0.0335,  0.0669,  0.3923],\n",
      "        [ 0.9544,  0.3519,  0.8369],\n",
      "        [ 0.2137,  0.7159,  0.9203],\n",
      "        [ 0.6374,  0.9826,  0.6312],\n",
      "        [ 0.9654,  0.4838,  0.0634],\n",
      "        [ 1.0000,  6.0000, 11.0000],\n",
      "        [ 2.0000,  7.0000, 12.0000],\n",
      "        [ 3.0000,  8.0000, 13.0000],\n",
      "        [ 4.0000,  9.0000, 14.0000],\n",
      "        [ 5.0000, 10.0000, 15.0000]])\n",
      "torch.Size([10, 3])\n",
      "tensor([[ 0.0335,  0.0669,  0.3923,  1.0000,  6.0000, 11.0000],\n",
      "        [ 0.9544,  0.3519,  0.8369,  2.0000,  7.0000, 12.0000],\n",
      "        [ 0.2137,  0.7159,  0.9203,  3.0000,  8.0000, 13.0000],\n",
      "        [ 0.6374,  0.9826,  0.6312,  4.0000,  9.0000, 14.0000],\n",
      "        [ 0.9654,  0.4838,  0.0634,  5.0000, 10.0000, 15.0000]])\n",
      "torch.Size([5, 6])\n"
     ]
    }
   ],
   "source": [
    "print(X.shape)\n",
    "print(Y.shape)\n",
    "\n",
    "X_Y=torch.cat((X,Y),0)\n",
    "print(X_Y)\n",
    "print(X_Y.shape)\n",
    "\n",
    "Y_X=torch.cat((X,Y),1)\n",
    "print(Y_X)\n",
    "print(Y_X.shape)"
   ]
  },
  {
   "cell_type": "markdown",
   "metadata": {},
   "source": [
    "#### 压缩：\n",
    "将输入 Tensor 中的一维数据删除（降维打击！）。\n",
    "当给定dim时，只在给定维度上操作。"
   ]
  },
  {
   "cell_type": "code",
   "execution_count": 13,
   "metadata": {},
   "outputs": [
    {
     "name": "stdout",
     "output_type": "stream",
     "text": [
      "torch.Size([2, 1, 2, 1, 2])\n",
      "torch.Size([2, 2, 2])\n"
     ]
    }
   ],
   "source": [
    "m = torch.zeros(2,1,2,1,2)\n",
    "print(m.size())\n",
    "m_s = torch.squeeze(m)\n",
    "print(m_s.size())"
   ]
  },
  {
   "cell_type": "markdown",
   "metadata": {},
   "source": [
    "#### 解压：\n",
    "扩展维度，对输入的位置插入一个维度"
   ]
  },
  {
   "cell_type": "code",
   "execution_count": 14,
   "metadata": {},
   "outputs": [
    {
     "name": "stdout",
     "output_type": "stream",
     "text": [
      "torch.Size([2, 2, 2])\n",
      "torch.Size([1, 2, 2, 2])\n"
     ]
    }
   ],
   "source": [
    "print(m_s.size())\n",
    "m_s_us = torch.unsqueeze(m_s, 0)\n",
    "print(m_s_us.size())"
   ]
  },
  {
   "cell_type": "markdown",
   "metadata": {},
   "source": [
    "#### 广播:  \n",
    "对两个形状不同的 Tensor 运算时，复制元素使这两个 Tensor 形状相同,再运算。 \n",
    "\n",
    "如果两个张量维度不同(维数不同)，扩展维度小的，使其与另一个张量相同。\n",
    "如果两个张量某个维度不同（在同一维度上大小不同），但其中一个张量的一个维度大小为 1，在这个维度扩展，使其与另一个张量相同。"
   ]
  },
  {
   "cell_type": "code",
   "execution_count": 15,
   "metadata": {},
   "outputs": [
    {
     "name": "stdout",
     "output_type": "stream",
     "text": [
      "tensor([[1]])\n",
      "tensor([[1],\n",
      "        [2],\n",
      "        [3]])\n",
      "tensor([[1, 2],\n",
      "        [3, 4],\n",
      "        [5, 6]])\n",
      "tensor([[2],\n",
      "        [3],\n",
      "        [4]])\n",
      "tensor([[2, 3],\n",
      "        [5, 6],\n",
      "        [8, 9]])\n"
     ]
    }
   ],
   "source": [
    "a = torch.tensor([[1]])\n",
    "b = torch.tensor([[1],[2],[3]])\n",
    "c = torch.tensor([[1,2],[3,4],[5,6]])\n",
    "print(a)\n",
    "print(b)\n",
    "print(c)\n",
    "print(a + b)# 情况1\n",
    "print(b + c)# 情况2"
   ]
  },
  {
   "cell_type": "markdown",
   "metadata": {},
   "source": [
    "#### Numpy的transpose函数  \n",
    "转置二维数组"
   ]
  },
  {
   "cell_type": "code",
   "execution_count": 16,
   "metadata": {},
   "outputs": [
    {
     "name": "stdout",
     "output_type": "stream",
     "text": [
      "[[1 2]\n",
      " [3 4]\n",
      " [5 6]]\n",
      "[[1 3 5]\n",
      " [2 4 6]]\n"
     ]
    }
   ],
   "source": [
    "print(c.numpy())\n",
    "print(c.numpy().transpose())"
   ]
  }
 ],
 "metadata": {
  "kernelspec": {
   "display_name": "pytorch",
   "language": "python",
   "name": "python3"
  },
  "language_info": {
   "codemirror_mode": {
    "name": "ipython",
    "version": 3
   },
   "file_extension": ".py",
   "mimetype": "text/x-python",
   "name": "python",
   "nbconvert_exporter": "python",
   "pygments_lexer": "ipython3",
   "version": "3.11.5"
  }
 },
 "nbformat": 4,
 "nbformat_minor": 2
}
