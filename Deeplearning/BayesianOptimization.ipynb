{
 "cells": [
  {
   "cell_type": "markdown",
   "metadata": {},
   "source": [
    "#### 引入库"
   ]
  },
  {
   "cell_type": "code",
   "execution_count": null,
   "metadata": {},
   "outputs": [],
   "source": [
    "import torch\n",
    "import torchvision\n",
    "import torch.nn as nn\n",
    "import torch.nn.functional as F\n",
    "import torch.optim as optim\n",
    "\n",
    "import matplotlib.pyplot as plt\n",
    "\n",
    "from bayes_opt import BayesianOptimization"
   ]
  },
  {
   "cell_type": "markdown",
   "metadata": {},
   "source": [
    "#### 参数设置\n",
    "目前遇到了一些不会改bug，只能在cpu上跑"
   ]
  },
  {
   "cell_type": "code",
   "execution_count": null,
   "metadata": {},
   "outputs": [],
   "source": [
    "batch_size_train = 100 #训练时的批次大小，根据拟合程度和硬件性能调整。太大过拟合，占用内存大，训练速度慢；太小易受噪声影响，易陷入局部最小值\n",
    "batch_size_test = 50   #测试时的批次大小，调整没啥影响，一般和训练批次大小相似\n",
    "#learning_rate = 1e-3   #学习率，控制参数调整幅度。太大不稳定，可能跳过全局最小值；太小收敛速度慢，易陷入局部最小值\n",
    "log_interval = 100     #日志输出间隔，控制输出训练信息频率\n",
    "\n",
    "init_points = 5 #初始探索点数量\n",
    "n_iter = 25 #迭代次数\n",
    "total_epoch = init_points + n_iter\n",
    "\n",
    "pbounds = { 'learning_rate_log': (-5, -1),  \n",
    "            'beta1': (0.9, 0.999), #控制一阶矩（梯度的指数加权平均）的衰减速度,其实我也不知道这是啥\n",
    "            'beta2': (0.9, 0.999), #控制二阶矩（梯度平方的指数加权平均）的衰减速度,但是它总有存在的意义\n",
    "            'weight_decay_log': (-5,-3) } #正则化项\n",
    "\n",
    "random_seed = 1 #随机种子，用于复现结果\n",
    "torch.manual_seed(random_seed) #设置随机种子\n",
    "\n",
    "torch.backends.cudnn.deterministic = True\n",
    "torch.backends.cudnn.benchmark = False\n",
    "#使用确定性算法确保结果可复现\n",
    "\n",
    "# 检查是否有可用的CUDA\n",
    "if torch.cuda.is_available():\n",
    "    device = torch.device(\"cuda\")\n",
    "else:\n",
    "    device = torch.device(\"cpu\")\n",
    "    \n",
    "device = torch.device(\"cpu\")"
   ]
  },
  {
   "cell_type": "markdown",
   "metadata": {},
   "source": [
    "#### 导入MNIST数据集  \n",
    "自动下载到根目录下的 ./data/ 路径\n",
    "\n",
    "数据集保存在 train_loader 和 test_loader 中\n",
    "每张图片的灰度值 tensor 位于 train_loader.dataset.data 和 train_loader.dataset.data 中 \n",
    "数量分别为 6w 和 1w\n",
    "\n",
    "每张图片的 tensor \n",
    "dtype=torch.uint8\n",
    "torch.Size([28, 28])"
   ]
  },
  {
   "cell_type": "code",
   "execution_count": null,
   "metadata": {},
   "outputs": [],
   "source": [
    "train_loader = torch.utils.data.DataLoader(\n",
    "    torchvision.datasets.MNIST('./data/',     #数据集本地存储路径，没有则创建\n",
    "                               train=True,    #加载训练集\n",
    "                               download=True, #如果本地不存在数据集，会下载数据集\n",
    "                               transform=torchvision.transforms.ToTensor(), #将图像转换为PyTorch张量                          ),\n",
    "    batch_size=batch_size_train, #设置批次大小\n",
    "    shuffle=True))                #每次打乱   \n",
    "\n",
    "test_loader = torch.utils.data.DataLoader(\n",
    "    torchvision.datasets.MNIST('./data/',\n",
    "                               train=False,   #加载测试集\n",
    "                               download=True,\n",
    "                               transform=torchvision.transforms.Compose(\n",
    "                                   torchvision.transforms.ToTensor(), ), ), \n",
    "    batch_size=batch_size_test,\n",
    "    shuffle=True,)"
   ]
  },
  {
   "cell_type": "markdown",
   "metadata": {},
   "source": [
    "#### 定义卷积网络\n",
    "输入 tensor 大小：[1, 28, 28]->  \n",
    "conv1 -> [8, 24, 24] ->  \n",
    "max_pool2d -> [8, 12, 12] ->  \n",
    "conv2 -> [64, 8, 8] ->  \n",
    "max_pool2d -> [64, 4, 4] ->  \n",
    "view -> [1024] ->  \n",
    "fc1 -> [256] ->  \n",
    "relu -> [256] ->  \n",
    "fc2 -> [10] (10分类)"
   ]
  },
  {
   "cell_type": "code",
   "execution_count": null,
   "metadata": {},
   "outputs": [],
   "source": [
    "#定义神经网络\n",
    "class Net(nn.Module):\n",
    "    def __init__(self):\n",
    "        super(Net, self).__init__() #初始化方法\n",
    "        self.conv1 = nn.Conv2d(1, 8, kernel_size=5) #卷积层1：输入通道数，输出通道数，kernel_size表示卷积核的大小\n",
    "        self.conv2 = nn.Conv2d(8, 64, kernel_size=5) #卷积层2\n",
    "        self.fc1 = nn.Linear(1024, 256) #全连接层类1:输入特征数，输出特征数\n",
    "        self.fc2 = nn.Linear(256, 10) #全连接层类2\n",
    "        self.conv_drop = nn.Dropout2d() #二维Dropout层，正则化，防止过拟合\n",
    "        \n",
    "    def forward(self, x):     #前向传播方法\n",
    "        x = F.relu(F.max_pool2d(self.conv1(x), 2))         \n",
    "        x = F.relu(F.max_pool2d(self.conv_drop(self.conv2(x)), 2))\n",
    "        x = x.view(-1, 1024)        #将二维张量x展平为一维张量。使用-1可以根据其他维度推断出一个维度的大小，1024是展平后张量的大小。\n",
    "        x = F.relu(self.fc1(x))     #对展平后的张量应用全连接层1，对全连接层1的结果应用ReLU激活函数 \n",
    "        x = self.fc2(x)             #对张量x应用全连接层2\n",
    "        return F.log_softmax(x,     #对第二个全连接层的输出应用对数softmax函数，获取对数概率\n",
    "                              dim = 1)#dim = 1指定应在列上应用，该维度表示不同的类别\n",
    "\n",
    "network = Net().to(device)"
   ]
  },
  {
   "cell_type": "markdown",
   "metadata": {},
   "source": [
    "#### 定义训练函数和测试函数"
   ]
  },
  {
   "cell_type": "code",
   "execution_count": null,
   "metadata": {},
   "outputs": [],
   "source": [
    "\n",
    "train_losses = [] #存储每个epoch的平均训练损失\n",
    "train_counter = [] #存储每个epoch结束时的总训练步数\n",
    "test_losses = [] #存储每个epoch的平均测试损失\n",
    "test_counter = [i * len(train_loader.dataset) for i in range(total_epoch + 1)] #存储每个epoch结束时的总测试步数\n",
    "accuracy_counter = [] #存储每个 epoch 的准确率\n",
    "\n",
    "epoch = -1 #为了让第一个epoch为第零个\n",
    "\n",
    "#定义训练函数\n",
    "def train(learning_rate_log, beta1, beta2, weight_decay_log):\n",
    "\n",
    "    global epoch\n",
    "    epoch += 1\n",
    "\n",
    "    learning_rate = 10 ** learning_rate_log\n",
    "    weight_decay = 10 ** weight_decay_log\n",
    "\n",
    "    optimizer = optim.Adam(params = network.parameters(),\n",
    "                           lr = learning_rate, \n",
    "                           betas = (beta1, beta2), \n",
    "                           weight_decay = weight_decay)\n",
    "\n",
    "    network.train() #将神经网络设置为训练模式\n",
    "    \n",
    "    for batch_idx, (data, target) in enumerate(train_loader): #遍历训练数据集的每个小批次\n",
    "        data, target = data.to(device), target.to(device) #将数据和标签移动到device上\n",
    "        optimizer.zero_grad()                             #将优化器的梯度缓存清零\n",
    "        output = network(data)                            #将输入数据传递给神经网络\n",
    "        loss = F.nll_loss(output, target)                 #使用负对数似然损失函数计算损失\n",
    "        loss.backward()                                   #反向传播,计算损失\n",
    "        optimizer.step()                                  #根据梯度更新网络的参数\n",
    "        if batch_idx % log_interval == 0:                 #延长日志输出间隔\n",
    "            print('Train Epoch: {} [{}/{} ({:.0f}%)]\\tLoss: {:.6f}'.format(epoch, batch_idx * len(data),\n",
    "                                                                           len(train_loader.dataset),\n",
    "                                                                           100. * batch_idx / len(train_loader),\n",
    "                                                                           loss.item()))\n",
    "            train_losses.append(loss.item())\n",
    "            train_counter.append((batch_idx * batch_size_train) + (epoch * len(train_loader.dataset)))\n",
    "            torch.save(network.state_dict(), './model.pth')       #保存当前的神经网络状态\n",
    "            torch.save(optimizer.state_dict(), './optimizer.pth') #保存当前的优化器状态\n",
    "    return test(epoch)\n",
    "\n",
    "def test(epoch):\n",
    "    network.eval() #将神经网络设置为评估（测试）模式\n",
    "    test_loss = 0  #初始化测试损失，用于计算测试集上的累积损失\n",
    "    correct = 0    #初始化正确预测的样本数，用于计算准确率\n",
    "    with torch.no_grad(): #上下文管理器，在该块中的操作不会影响到梯度计算\n",
    "        for data, target in test_loader:\n",
    "            data, target = data.to(device), target.to(device)\n",
    "            output = network(data)\n",
    "            test_loss += F.nll_loss(output, target, reduction='sum').item()\n",
    "            pred = output.data.max(1, keepdim=True)[1]\n",
    "            correct += pred.eq(target.data.view_as(pred)).sum()\n",
    "    test_loss /= len(test_loader.dataset)\n",
    "    test_losses.append(test_loss)\n",
    "    accuracy_counter.append(100. * correct / len(test_loader.dataset))\n",
    "    \n",
    "    return 100. * correct / len(test_loader.dataset)"
   ]
  },
  {
   "cell_type": "markdown",
   "metadata": {},
   "source": [
    "#### 定义超参数优化器 BayesianOptimization"
   ]
  },
  {
   "cell_type": "code",
   "execution_count": null,
   "metadata": {},
   "outputs": [],
   "source": [
    "bayesian_optimizer = BayesianOptimization(\n",
    "    f = train,\n",
    "    pbounds = pbounds,\n",
    "    verbose = 2, # verbose = 1 prints only when a maximum is observed, verbose = 0 is silent\n",
    "    random_state = random_seed\n",
    ")"
   ]
  },
  {
   "cell_type": "markdown",
   "metadata": {},
   "source": [
    "#### 训练"
   ]
  },
  {
   "cell_type": "code",
   "execution_count": null,
   "metadata": {},
   "outputs": [],
   "source": [
    "bayesian_optimizer.maximize(\n",
    "    init_points = init_points,\n",
    "    n_iter = n_iter)"
   ]
  },
  {
   "cell_type": "markdown",
   "metadata": {},
   "source": [
    "#### 输出"
   ]
  },
  {
   "cell_type": "code",
   "execution_count": null,
   "metadata": {},
   "outputs": [],
   "source": [
    "def draw_train_loss():\n",
    "    fig = plt.figure()\n",
    "\n",
    "    for i in range(total_epoch):\n",
    "        start_index = i * len(train_counter) // total_epoch\n",
    "        end_index = (i + 1) * len(train_counter) // total_epoch\n",
    "        plt.plot(train_counter[start_index:end_index], train_losses[start_index:end_index])\n",
    "    \n",
    "    plt.legend(['Train loss'], loc='upper right')\n",
    "    plt.xlabel('number of training examples seen')\n",
    "    plt.ylabel('negative log likelihood loss')\n",
    "    plt.show()\n",
    "\n",
    "def draw_test_loss():\n",
    "    fig = plt.figure()\n",
    "    plt.plot([x / len(train_loader.dataset) for x in test_counter][:init_points], \n",
    "             test_losses[:init_points], \n",
    "             color='red', label='Test loss (Init Points)')\n",
    "    plt.plot([x / len(train_loader.dataset) for x in test_counter][init_points:-1], \n",
    "             test_losses[init_points:], \n",
    "             color='blue', label='Test loss (n_iter)')\n",
    "    plt.legend(['Test Loss'], loc='upper right')\n",
    "    plt.xlabel('epoch')\n",
    "    plt.ylabel('negative log likelihood loss')\n",
    "    plt.show()\n",
    "\n",
    "def draw_accuracy():\n",
    "    fig = plt.figure()\n",
    "    plt.plot([x / len(train_loader.dataset) for x in test_counter][:init_points], \n",
    "             [x.item() for x in accuracy_counter[:init_points]], \n",
    "             color='red', label='Accuracy (Init Points)')\n",
    "    plt.plot([x / len(train_loader.dataset) for x in test_counter][init_points:-1], \n",
    "             [x.item() for x in accuracy_counter[init_points:]], \n",
    "             color='blue', label='Accuracy (n_iter)')\n",
    "    plt.legend(loc='lower right')\n",
    "    plt.xlabel('epoch')\n",
    "    plt.ylabel('accuracy')\n",
    "    plt.show()\n",
    "\n",
    "draw_train_loss()\n",
    "draw_test_loss()\n",
    "draw_accuracy()\n",
    "\n",
    "#输出最优参数组合, target 就是 accuracy\n",
    "print(bayesian_optimizer.max)"
   ]
  }
 ],
 "metadata": {
  "kernelspec": {
   "display_name": "pytorch",
   "language": "python",
   "name": "python3"
  },
  "language_info": {
   "codemirror_mode": {
    "name": "ipython",
    "version": 3
   },
   "file_extension": ".py",
   "mimetype": "text/x-python",
   "name": "python",
   "nbconvert_exporter": "python",
   "pygments_lexer": "ipython3",
   "version": "3.11.5"
  }
 },
 "nbformat": 4,
 "nbformat_minor": 2
}
