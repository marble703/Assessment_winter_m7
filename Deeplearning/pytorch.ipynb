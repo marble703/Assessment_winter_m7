{
 "cells": [
  {
   "cell_type": "markdown",
   "metadata": {},
   "source": [
    "### 引入库"
   ]
  },
  {
   "cell_type": "code",
   "execution_count": 1,
   "metadata": {},
   "outputs": [],
   "source": [
    "import torch\n",
    "import torchvision\n",
    "import torch.nn as nn\n",
    "import torch.nn.functional as F"
   ]
  },
  {
   "cell_type": "markdown",
   "metadata": {},
   "source": [
    "#### 参数设置"
   ]
  },
  {
   "cell_type": "code",
   "execution_count": 2,
   "metadata": {},
   "outputs": [],
   "source": [
    "n_epochs = 3          #学习次数，根据拟合程度调整。太大过拟合；太小欠拟合\n",
    "batch_size_train = 100 #训练时的批次大小，根据拟合程度和硬件性能调整。太大过拟合，占用内存大，训练速度慢；太小易受噪声影响，易陷入局部最小值\n",
    "batch_size_test = 50  #测试时的批次大小，调整没啥影响，一般和训练批次大小相似\n",
    "learning_rate = 0.01  #学习率，控制参数调整幅度。太大不稳定，可能跳过全局最小值；太小收敛速度慢，易陷入局部最小值\n",
    "momentum = 0.5        #动量，减少陷入局部最小值情况。太大不稳定，可能跳过全局最小值；太小收敛速度慢，易陷入局部最小值\n",
    "log_interval = 100     #日志输出间隔，控制输出训练信息频率\n",
    "\n",
    "random_seed = 1 #随机种子，用于复现结果\n",
    "torch.manual_seed(random_seed) #设置随机种子\n",
    "\n",
    "# 检查是否有可用的GPU\n",
    "if torch.cuda.is_available():\n",
    "    device = torch.device(\"cuda\")\n",
    "else:\n",
    "    device = torch.device(\"cpu\")"
   ]
  },
  {
   "cell_type": "markdown",
   "metadata": {},
   "source": [
    "#### 导入MNIST数据集  \n",
    "自动下载到根目录下的 ./data/ 路径\n",
    "\n",
    "数据集保存在 train_loader 和 test_loader 中\n",
    "每张图片的灰度值 tensor 位于 train_loader.dataset.data 和 train_loader.dataset.data 中 \n",
    "数量分别为 6w 和 1w\n",
    "\n",
    "每张图片的 tensor \n",
    "dtype=torch.uint8\n",
    "torch.Size([28, 28])"
   ]
  },
  {
   "cell_type": "code",
   "execution_count": 3,
   "metadata": {},
   "outputs": [],
   "source": [
    "train_loader = torch.utils.data.DataLoader(\n",
    "    torchvision.datasets.MNIST('./data/', #数据集本地存储路径，没有则创建\n",
    "                               train=True, #加载训练集\n",
    "                               download=True, #如果本地不存在数据集，会下载数据集\n",
    "                               transform=torchvision.transforms.ToTensor(), #将图像转换为PyTorch张量                          \n",
    "                               ),\n",
    "    batch_size=batch_size_train, #设置批次大小\n",
    "    shuffle=True,  #每次打乱\n",
    "    )   \n",
    "\n",
    "test_loader = torch.utils.data.DataLoader(\n",
    "    torchvision.datasets.MNIST('./data/',\n",
    "                               train=False,\n",
    "                               download=True,\n",
    "                               transform=torchvision.transforms.Compose([\n",
    "                                   torchvision.transforms.ToTensor(),\n",
    "                                   ]),\n",
    "                               ),\n",
    "    batch_size=batch_size_test,\n",
    "    shuffle=True,\n",
    "    )"
   ]
  },
  {
   "cell_type": "markdown",
   "metadata": {},
   "source": [
    "#### 定义卷积网络"
   ]
  },
  {
   "cell_type": "code",
   "execution_count": 4,
   "metadata": {},
   "outputs": [],
   "source": [
    "#定义神经网络\n",
    "class Net(nn.Module):\n",
    "    def __init__(self):\n",
    "        super(Net, self).__init__() #初始化方法\n",
    "        self.conv1 = nn.Conv2d(1, 15, kernel_size=5) #卷积层1：输入通道数，输出通道数，kernel_size表示卷积核的大小\n",
    "        self.conv2 = nn.Conv2d(15, 20, kernel_size=5) #卷积层2\n",
    "        self.fc1 = nn.Linear(320, 50) #全连接层类1:输入特征数，输出特征数\n",
    "        self.fc2 = nn.Linear(50, 10) #全连接层类2\n",
    " \n",
    "    def forward(self, x):     #前向传播方法\n",
    "        x = F.relu(F.max_pool2d(self.conv1(x), 2))         \n",
    "        x = F.relu(F.max_pool2d((self.conv2(x)), 2))\n",
    "        x = x.view(-1, 320)                      #将二维张量x展平为一维张量。使用-1可以根据其他维度推断出一个维度的大小，320是展平后张量的大小。\n",
    "        x = F.relu(self.fc1(x))                  #对展平后的张量应用全连接层1，对全连接层1的结果应用ReLU激活函数\n",
    "        x = self.fc2(x)                          #对张量x应用全连接层2\n",
    "        return F.log_softmax(x, dim=1) #对第二个全连接层的输出应用对数softmax函数，获取对数概率；dim=1指定应在列上应用，该维度表示不同的类别\n",
    "\n",
    "network = Net().to(device)"
   ]
  }
 ],
 "metadata": {
  "kernelspec": {
   "display_name": "pytorch",
   "language": "python",
   "name": "python3"
  },
  "language_info": {
   "codemirror_mode": {
    "name": "ipython",
    "version": 3
   },
   "file_extension": ".py",
   "mimetype": "text/x-python",
   "name": "python",
   "nbconvert_exporter": "python",
   "pygments_lexer": "ipython3",
   "version": "3.11.5"
  }
 },
 "nbformat": 4,
 "nbformat_minor": 2
}
